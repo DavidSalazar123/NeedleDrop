{
 "cells": [
  {
   "cell_type": "code",
   "execution_count": 59,
   "metadata": {
    "collapsed": false,
    "pycharm": {
     "name": "#%%\n"
    }
   },
   "outputs": [
    {
     "data": {
      "text/plain": [
       "joe tangari           748\n",
       "stephen m. deusner    634\n",
       "ian cohen             600\n",
       "brian howe            456\n",
       "mark richardson       432\n",
       "Name: author, dtype: int64"
      ]
     },
     "execution_count": 59,
     "metadata": {},
     "output_type": "execute_result"
    }
   ],
   "source": [
    "import sqlite3\n",
    "import pandas as pd\n",
    "import numpy as np\n",
    "# Data was collected from https://www.kaggle.com/datasets/nolanbconaway/pitchfork-data\n",
    "\n",
    "# Read the SQL and clean data\n",
    "con = sqlite3.connect('pitchfork.sqlite')\n",
    "df = pd.read_sql('SELECT * FROM reviews', con)\n",
    "genres = pd.read_sql('SELECT * FROM genres', con)\n",
    "df.reset_index(drop=True,inplace=True)\n",
    "genres.reset_index(drop=True,inplace=True)\n",
    "con.close()\n",
    "df.drop([\"reviewid\", \"url\", \"best_new_music\", \"pub_weekday\", \"pub_day\",\"pub_month\"], inplace=True,axis=1)\n",
    "data = pd.concat([genres,df],axis=1)\n",
    "data.dropna(inplace=True)"
   ]
  },
  {
   "cell_type": "code",
   "execution_count": 73,
   "metadata": {
    "collapsed": false,
    "pycharm": {
     "name": "#%%\n"
    }
   },
   "outputs": [
    {
     "data": {
      "text/html": [
       "<div>\n",
       "<style scoped>\n",
       "    .dataframe tbody tr th:only-of-type {\n",
       "        vertical-align: middle;\n",
       "    }\n",
       "\n",
       "    .dataframe tbody tr th {\n",
       "        vertical-align: top;\n",
       "    }\n",
       "\n",
       "    .dataframe thead th {\n",
       "        text-align: right;\n",
       "    }\n",
       "</style>\n",
       "<table border=\"1\" class=\"dataframe\">\n",
       "  <thead>\n",
       "    <tr style=\"text-align: right;\">\n",
       "      <th></th>\n",
       "      <th>reviewid</th>\n",
       "      <th>genre</th>\n",
       "      <th>title</th>\n",
       "      <th>artist</th>\n",
       "      <th>score</th>\n",
       "      <th>author</th>\n",
       "      <th>author_type</th>\n",
       "      <th>pub_date</th>\n",
       "      <th>pub_year</th>\n",
       "    </tr>\n",
       "  </thead>\n",
       "  <tbody>\n",
       "    <tr>\n",
       "      <th>0</th>\n",
       "      <td>22703</td>\n",
       "      <td>electronic</td>\n",
       "      <td>mezzanine</td>\n",
       "      <td>massive attack</td>\n",
       "      <td>9.3</td>\n",
       "      <td>nate patrin</td>\n",
       "      <td>contributor</td>\n",
       "      <td>2017-01-08</td>\n",
       "      <td>2017.0</td>\n",
       "    </tr>\n",
       "    <tr>\n",
       "      <th>1</th>\n",
       "      <td>22721</td>\n",
       "      <td>metal</td>\n",
       "      <td>prelapsarian</td>\n",
       "      <td>krallice</td>\n",
       "      <td>7.9</td>\n",
       "      <td>zoe camp</td>\n",
       "      <td>contributor</td>\n",
       "      <td>2017-01-07</td>\n",
       "      <td>2017.0</td>\n",
       "    </tr>\n",
       "    <tr>\n",
       "      <th>2</th>\n",
       "      <td>22659</td>\n",
       "      <td>rock</td>\n",
       "      <td>all of them naturals</td>\n",
       "      <td>uranium club</td>\n",
       "      <td>7.3</td>\n",
       "      <td>david glickman</td>\n",
       "      <td>contributor</td>\n",
       "      <td>2017-01-07</td>\n",
       "      <td>2017.0</td>\n",
       "    </tr>\n",
       "    <tr>\n",
       "      <th>3</th>\n",
       "      <td>22661</td>\n",
       "      <td>rock</td>\n",
       "      <td>first songs</td>\n",
       "      <td>kleenex, liliput</td>\n",
       "      <td>9.0</td>\n",
       "      <td>jenn pelly</td>\n",
       "      <td>associate reviews editor</td>\n",
       "      <td>2017-01-06</td>\n",
       "      <td>2017.0</td>\n",
       "    </tr>\n",
       "    <tr>\n",
       "      <th>4</th>\n",
       "      <td>22725</td>\n",
       "      <td>electronic</td>\n",
       "      <td>new start</td>\n",
       "      <td>taso</td>\n",
       "      <td>8.1</td>\n",
       "      <td>kevin lozano</td>\n",
       "      <td>tracks coordinator</td>\n",
       "      <td>2017-01-06</td>\n",
       "      <td>2017.0</td>\n",
       "    </tr>\n",
       "    <tr>\n",
       "      <th>...</th>\n",
       "      <td>...</td>\n",
       "      <td>...</td>\n",
       "      <td>...</td>\n",
       "      <td>...</td>\n",
       "      <td>...</td>\n",
       "      <td>...</td>\n",
       "      <td>...</td>\n",
       "      <td>...</td>\n",
       "      <td>...</td>\n",
       "    </tr>\n",
       "    <tr>\n",
       "      <th>18382</th>\n",
       "      <td>6703</td>\n",
       "      <td>pop/r&amp;b</td>\n",
       "      <td>mission: control!</td>\n",
       "      <td>burning airlines</td>\n",
       "      <td>8.4</td>\n",
       "      <td>brent dicrescenzo</td>\n",
       "      <td>contributor</td>\n",
       "      <td>1999-02-16</td>\n",
       "      <td>1999.0</td>\n",
       "    </tr>\n",
       "    <tr>\n",
       "      <th>18383</th>\n",
       "      <td>6703</td>\n",
       "      <td>folk/country</td>\n",
       "      <td>all-in</td>\n",
       "      <td>arling and cameron</td>\n",
       "      <td>8.0</td>\n",
       "      <td>jason josephes</td>\n",
       "      <td>contributor</td>\n",
       "      <td>1999-02-11</td>\n",
       "      <td>1999.0</td>\n",
       "    </tr>\n",
       "    <tr>\n",
       "      <th>18385</th>\n",
       "      <td>4825</td>\n",
       "      <td>rock</td>\n",
       "      <td>sam prekop</td>\n",
       "      <td>sam prekop</td>\n",
       "      <td>8.9</td>\n",
       "      <td>ryan schreiber</td>\n",
       "      <td>editor-in-chief</td>\n",
       "      <td>1999-02-09</td>\n",
       "      <td>1999.0</td>\n",
       "    </tr>\n",
       "    <tr>\n",
       "      <th>18386</th>\n",
       "      <td>4825</td>\n",
       "      <td>metal</td>\n",
       "      <td>peel session</td>\n",
       "      <td>autechre</td>\n",
       "      <td>7.7</td>\n",
       "      <td>ryan schreiber</td>\n",
       "      <td>editor-in-chief</td>\n",
       "      <td>1999-02-09</td>\n",
       "      <td>1999.0</td>\n",
       "    </tr>\n",
       "    <tr>\n",
       "      <th>18392</th>\n",
       "      <td>3293</td>\n",
       "      <td>rock</td>\n",
       "      <td>left for dead in malaysia</td>\n",
       "      <td>neil hamburger</td>\n",
       "      <td>6.5</td>\n",
       "      <td>jason josephes</td>\n",
       "      <td>contributor</td>\n",
       "      <td>1999-01-05</td>\n",
       "      <td>1999.0</td>\n",
       "    </tr>\n",
       "  </tbody>\n",
       "</table>\n",
       "<p>12864 rows × 9 columns</p>\n",
       "</div>"
      ],
      "text/plain": [
       "       reviewid         genre                      title              artist  \\\n",
       "0         22703    electronic                  mezzanine      massive attack   \n",
       "1         22721         metal               prelapsarian            krallice   \n",
       "2         22659          rock       all of them naturals        uranium club   \n",
       "3         22661          rock                first songs    kleenex, liliput   \n",
       "4         22725    electronic                  new start                taso   \n",
       "...         ...           ...                        ...                 ...   \n",
       "18382      6703       pop/r&b          mission: control!    burning airlines   \n",
       "18383      6703  folk/country                     all-in  arling and cameron   \n",
       "18385      4825          rock                 sam prekop          sam prekop   \n",
       "18386      4825         metal               peel session            autechre   \n",
       "18392      3293          rock  left for dead in malaysia      neil hamburger   \n",
       "\n",
       "       score             author               author_type    pub_date  \\\n",
       "0        9.3        nate patrin               contributor  2017-01-08   \n",
       "1        7.9           zoe camp               contributor  2017-01-07   \n",
       "2        7.3     david glickman               contributor  2017-01-07   \n",
       "3        9.0         jenn pelly  associate reviews editor  2017-01-06   \n",
       "4        8.1       kevin lozano        tracks coordinator  2017-01-06   \n",
       "...      ...                ...                       ...         ...   \n",
       "18382    8.4  brent dicrescenzo               contributor  1999-02-16   \n",
       "18383    8.0     jason josephes               contributor  1999-02-11   \n",
       "18385    8.9     ryan schreiber           editor-in-chief  1999-02-09   \n",
       "18386    7.7     ryan schreiber           editor-in-chief  1999-02-09   \n",
       "18392    6.5     jason josephes               contributor  1999-01-05   \n",
       "\n",
       "       pub_year  \n",
       "0        2017.0  \n",
       "1        2017.0  \n",
       "2        2017.0  \n",
       "3        2017.0  \n",
       "4        2017.0  \n",
       "...         ...  \n",
       "18382    1999.0  \n",
       "18383    1999.0  \n",
       "18385    1999.0  \n",
       "18386    1999.0  \n",
       "18392    1999.0  \n",
       "\n",
       "[12864 rows x 9 columns]"
      ]
     },
     "execution_count": 73,
     "metadata": {},
     "output_type": "execute_result"
    }
   ],
   "source": [
    "data"
   ]
  },
  {
   "cell_type": "code",
   "execution_count": 44,
   "metadata": {
    "collapsed": false,
    "pycharm": {
     "name": "#%%\n"
    }
   },
   "outputs": [
    {
     "data": {
      "text/plain": [
       "contributor                  11013\n",
       "executive editor               432\n",
       "senior editor                  420\n",
       "senior staff writer            404\n",
       "contributing editor            190\n",
       "associate staff writer         100\n",
       "editor-in-chief                 78\n",
       "deputy news editor              71\n",
       "tracks coordinator              50\n",
       "associate reviews editor        37\n",
       "associate editor                34\n",
       "assistant editor                16\n",
       "associate features editor       11\n",
       "news director                    5\n",
       "managing editor                  3\n",
       "Name: author_type, dtype: int64"
      ]
     },
     "execution_count": 44,
     "metadata": {},
     "output_type": "execute_result"
    }
   ],
   "source": [
    "data[\"author_type\"].value_counts()"
   ]
  },
  {
   "cell_type": "markdown",
   "metadata": {
    "collapsed": false,
    "pycharm": {
     "name": "#%% md\n"
    }
   },
   "source": [
    "# Does Pitchfork contributors have a bias towards certain music?"
   ]
  },
  {
   "cell_type": "code",
   "execution_count": 45,
   "metadata": {
    "collapsed": false,
    "pycharm": {
     "name": "#%%\n"
    }
   },
   "outputs": [
    {
     "data": {
      "text/plain": [
       "count    12864.000000\n",
       "mean         7.053109\n",
       "std          1.253503\n",
       "min          0.000000\n",
       "25%          6.500000\n",
       "50%          7.300000\n",
       "75%          7.800000\n",
       "max         10.000000\n",
       "Name: score, dtype: float64"
      ]
     },
     "execution_count": 45,
     "metadata": {},
     "output_type": "execute_result"
    }
   ],
   "source": [
    "data[\"score\"].describe()"
   ]
  },
  {
   "cell_type": "code",
   "execution_count": 46,
   "metadata": {
    "collapsed": false,
    "pycharm": {
     "name": "#%%\n"
    }
   },
   "outputs": [
    {
     "data": {
      "image/png": "[encoded data removed]",
      "text/plain": [
       "<Figure size 432x288 with 1 Axes>"
      ]
     },
     "metadata": {
      "needs_background": "light"
     },
     "output_type": "display_data"
    },
    {
     "data": {
      "image/png": "[encoded data removed]",
      "text/plain": [
       "<Figure size 432x288 with 1 Axes>"
      ]
     },
     "metadata": {
      "needs_background": "light"
     },
     "output_type": "display_data"
    },
    {
     "name": "stdout",
     "output_type": "stream",
     "text": [
      "Rock Description\n",
      "\n",
      "count    5756.000000\n",
      "mean        7.028509\n",
      "std         1.283133\n",
      "min         0.000000\n",
      "25%         6.500000\n",
      "50%         7.300000\n",
      "75%         7.800000\n",
      "max        10.000000\n",
      "Name: score, dtype: float64\n"
     ]
    },
    {
     "data": {
      "image/png": "[encoded data removed]",
      "text/plain": [
       "<Figure size 432x288 with 1 Axes>"
      ]
     },
     "metadata": {
      "needs_background": "light"
     },
     "output_type": "display_data"
    },
    {
     "name": "stdout",
     "output_type": "stream",
     "text": [
      "Electronic Description\n",
      "\n",
      "count    2436.000000\n",
      "mean        7.048768\n",
      "std         1.233337\n",
      "min         0.000000\n",
      "25%         6.500000\n",
      "50%         7.300000\n",
      "75%         7.800000\n",
      "max        10.000000\n",
      "Name: score, dtype: float64\n"
     ]
    },
    {
     "data": {
      "image/png": "[encoded data removed]",
      "text/plain": [
       "<Figure size 432x288 with 1 Axes>"
      ]
     },
     "metadata": {
      "needs_background": "light"
     },
     "output_type": "display_data"
    },
    {
     "name": "stdout",
     "output_type": "stream",
     "text": [
      "Experimental Music\n",
      "\n",
      "count    1128.000000\n",
      "mean        7.110461\n",
      "std         1.239213\n",
      "min         0.400000\n",
      "25%         6.600000\n",
      "50%         7.300000\n",
      "75%         7.900000\n",
      "max        10.000000\n",
      "Name: score, dtype: float64\n"
     ]
    },
    {
     "data": {
      "image/png": "[encoded data removed]",
      "text/plain": [
       "<Figure size 432x288 with 1 Axes>"
      ]
     },
     "metadata": {
      "needs_background": "light"
     },
     "output_type": "display_data"
    },
    {
     "name": "stdout",
     "output_type": "stream",
     "text": [
      "Rap Music\n",
      "\n",
      "count    1165.000000\n",
      "mean        7.112361\n",
      "std         1.173937\n",
      "min         0.000000\n",
      "25%         6.600000\n",
      "50%         7.300000\n",
      "75%         7.800000\n",
      "max        10.000000\n",
      "Name: score, dtype: float64\n"
     ]
    },
    {
     "data": {
      "image/png": "[encoded data removed]",
      "text/plain": [
       "<Figure size 432x288 with 1 Axes>"
      ]
     },
     "metadata": {
      "needs_background": "light"
     },
     "output_type": "display_data"
    },
    {
     "name": "stdout",
     "output_type": "stream",
     "text": [
      "Pop/R&B Music \n",
      "\n",
      "count    1005.000000\n",
      "mean        7.044279\n",
      "std         1.278897\n",
      "min         0.700000\n",
      "25%         6.500000\n",
      "50%         7.300000\n",
      "75%         7.800000\n",
      "max        10.000000\n",
      "Name: score, dtype: float64\n"
     ]
    },
    {
     "data": {
      "image/png": "[encoded data removed]",
      "text/plain": [
       "<Figure size 432x288 with 1 Axes>"
      ]
     },
     "metadata": {
      "needs_background": "light"
     },
     "output_type": "display_data"
    },
    {
     "name": "stdout",
     "output_type": "stream",
     "text": [
      "Pop/R&B Music\n",
      "\n",
      "count    562.000000\n",
      "mean       7.111922\n",
      "std        1.110178\n",
      "min        2.100000\n",
      "25%        6.600000\n",
      "50%        7.300000\n",
      "75%        7.800000\n",
      "max       10.000000\n",
      "Name: score, dtype: float64\n"
     ]
    },
    {
     "data": {
      "image/png": "[encoded data removed]",
      "text/plain": [
       "<Figure size 432x288 with 1 Axes>"
      ]
     },
     "metadata": {
      "needs_background": "light"
     },
     "output_type": "display_data"
    },
    {
     "name": "stdout",
     "output_type": "stream",
     "text": [
      "Folk/Country Scores\n",
      "\n",
      "count    459.000000\n",
      "mean       7.053813\n",
      "std        1.399221\n",
      "min        0.200000\n",
      "25%        6.450000\n",
      "50%        7.300000\n",
      "75%        7.900000\n",
      "max       10.000000\n",
      "Name: score, dtype: float64\n"
     ]
    },
    {
     "data": {
      "image/png": "[encoded data removed]",
      "text/plain": [
       "<Figure size 432x288 with 1 Axes>"
      ]
     },
     "metadata": {
      "needs_background": "light"
     },
     "output_type": "display_data"
    },
    {
     "name": "stdout",
     "output_type": "stream",
     "text": [
      "Jazz Scores\n",
      "\n",
      "count    211.000000\n",
      "mean       7.080095\n",
      "std        1.146748\n",
      "min        2.100000\n",
      "25%        6.600000\n",
      "50%        7.300000\n",
      "75%        7.800000\n",
      "max        9.600000\n",
      "Name: score, dtype: float64\n"
     ]
    },
    {
     "data": {
      "image/png": "[encoded data removed]",
      "text/plain": [
       "<Figure size 432x288 with 1 Axes>"
      ]
     },
     "metadata": {
      "needs_background": "light"
     },
     "output_type": "display_data"
    },
    {
     "name": "stdout",
     "output_type": "stream",
     "text": [
      "Global Scores\n",
      "count    142.000000\n",
      "mean       6.970423\n",
      "std        1.118560\n",
      "min        3.700000\n",
      "25%        6.300000\n",
      "50%        7.100000\n",
      "75%        7.775000\n",
      "max        9.200000\n",
      "Name: score, dtype: float64\n"
     ]
    }
   ],
   "source": [
    "from matplotlib import pyplot as plt\n",
    "plt.hist(data[\"score\"], bins = 10)\n",
    "plt.xlabel(\"Scores\")\n",
    "plt.ylabel(\"Counts\")\n",
    "plt.title(\"Histogram of all Scores\")\n",
    "plt.show()\n",
    "\n",
    "#Rock Scores\n",
    "rock = data [data[\"genre\"] == \"rock\"]\n",
    "plt.hist(rock[\"score\"], bins = 10)\n",
    "plt.xlabel(\"Rock Scores\")\n",
    "plt.ylabel(\"Counts\")\n",
    "plt.title(\"Histogram of Rock Scores\")\n",
    "plt.show()\n",
    "print(\"Rock Description\\n\")\n",
    "print( rock[\"score\"].describe())\n",
    "\n",
    "#Electronic Scores\n",
    "electronic = data [data[\"genre\"] == \"electronic\"]\n",
    "plt.hist(electronic[\"score\"], bins = 10)\n",
    "plt.xlabel(\"Electronic Scores\")\n",
    "plt.ylabel(\"Counts\")\n",
    "plt.title(\"Histogram of Electronic Scores\")\n",
    "plt.show()\n",
    "print(\"Electronic Description\\n\")\n",
    "print( electronic[\"score\"].describe() )\n",
    "\n",
    "#Experimental\n",
    "experimental = data [data[\"genre\"] == \"experimental\"]\n",
    "plt.hist(experimental[\"score\"], bins = 10)\n",
    "plt.xlabel(\"Experimental Scores\")\n",
    "plt.ylabel(\"Counts\")\n",
    "plt.title(\"Histogram of Experimental Scores\")\n",
    "plt.show()\n",
    "print(\"Experimental Music\\n\")\n",
    "print( experimental[\"score\"].describe() )\n",
    "\n",
    "#Rap\n",
    "rap = data [data[\"genre\"] == \"rap\"]\n",
    "plt.hist(rap[\"score\"], bins = 10)\n",
    "plt.xlabel(\"Rap Scores\")\n",
    "plt.ylabel(\"Counts\")\n",
    "plt.title(\"Histogram of Rap Scores\")\n",
    "plt.show()\n",
    "print(\"Rap Music\\n\")\n",
    "print( rap[\"score\"].describe() )\n",
    "\n",
    "#Pop/R&B\n",
    "pop_rb = data [data[\"genre\"] == \"pop/r&b\"]\n",
    "plt.hist(pop_rb[\"score\"], bins = 10)\n",
    "plt.xlabel(\"Pop/R&B Scores\")\n",
    "plt.ylabel(\"Counts\")\n",
    "plt.title(\"Histogram of Pop/R&B Scores\")\n",
    "plt.show()\n",
    "print(\"Pop/R&B Music \\n\")\n",
    "print( pop_rb[\"score\"].describe() )\n",
    "\n",
    "#Metal Scores\n",
    "metal = data [data[\"genre\"] == \"metal\"]\n",
    "plt.hist(metal[\"score\"], bins = 10)\n",
    "plt.xlabel(\"Metal Scores\")\n",
    "plt.ylabel(\"Counts\")\n",
    "plt.title(\"Histogram of Metal Scores\")\n",
    "plt.show()\n",
    "print(\"Pop/R&B Music\\n\")\n",
    "print( metal[\"score\"].describe() )\n",
    "\n",
    "#Folk/Country Scores\n",
    "folk_country = data [data[\"genre\"] == \"folk/country\"]\n",
    "plt.hist(folk_country[\"score\"], bins = 10)\n",
    "plt.xlabel(\"Folk/Country Scores\")\n",
    "plt.ylabel(\"Counts\")\n",
    "plt.title(\"Histogram of Folk/Country Scores\")\n",
    "plt.show()\n",
    "print(\"Folk/Country Scores\\n\")\n",
    "print( folk_country[\"score\"].describe() )\n",
    "\n",
    "#Jazz Scores\n",
    "jazz = data [data[\"genre\"] == \"jazz\"]\n",
    "plt.hist(jazz[\"score\"], bins = 10)\n",
    "plt.xlabel(\"Jazz Scores\")\n",
    "plt.ylabel(\"Counts\")\n",
    "plt.title(\"Histogram of Jazz Scores\")\n",
    "plt.show()\n",
    "print(\"Jazz Scores\\n\")\n",
    "print( jazz[\"score\"].describe())\n",
    "\n",
    "#Global Scores\n",
    "global_ = data [data[\"genre\"] == \"global\"]\n",
    "plt.hist(global_[\"score\"], bins = 10)\n",
    "plt.xlabel(\"Global Scores\")\n",
    "plt.ylabel(\"Counts\")\n",
    "plt.title(\"Histogram of Global Scores\")\n",
    "plt.show()\n",
    "print(\"Global Scores\")\n",
    "print( global_[\"score\"].describe() )"
   ]
  },
  {
   "cell_type": "markdown",
   "metadata": {
    "collapsed": false,
    "pycharm": {
     "name": "#%% md\n"
    }
   },
   "source": [
    "## Analysis on the bias"
   ]
  },
  {
   "cell_type": "code",
   "execution_count": 57,
   "metadata": {
    "collapsed": false,
    "pycharm": {
     "name": "#%%\n"
    }
   },
   "outputs": [
    {
     "name": "stdout",
     "output_type": "stream",
     "text": [
      "Wait unbias? what?? P-value is 0.3246545755\n"
     ]
    }
   ],
   "source": [
    "import scipy.stats as stats\n",
    "from statsmodels.stats.multicomp import pairwise_tukeyhsd\n",
    "\n",
    "f_value, p_value = stats.f_oneway(rock[\"score\"],rap[\"score\"],electronic[\"score\"],experimental[\"score\"], pop_rb[\"score\"], metal[\"score\"],folk_country[\"score\"],\n",
    "                                  jazz[\"score\"], global_[\"score\"])\n",
    "if p_value < .05:\n",
    "    print(\"Means are not equal \" + str( format(p_value, '.10f')) + \" Meaning that some bias is going on!\")\n",
    "else:\n",
    "    print(\"Wait unbias? what?? P-value is \" + str( format(p_value, '.10f')) )"
   ]
  },
  {
   "cell_type": "code",
   "execution_count": 53,
   "metadata": {
    "collapsed": false,
    "pycharm": {
     "name": "#%%\n"
    }
   },
   "outputs": [
    {
     "name": "stdout",
     "output_type": "stream",
     "text": [
      "      Multiple Comparison of Means - Tukey HSD, FWER=0.05      \n",
      "===============================================================\n",
      "   group1       group2    meandiff p-adj   lower  upper  reject\n",
      "---------------------------------------------------------------\n",
      "  electronic experimental   0.0617 0.9104 -0.0783 0.2017  False\n",
      "  electronic folk/country    0.005    1.0 -0.1928 0.2029  False\n",
      "  electronic       global  -0.0783 0.9985  -0.414 0.2573  False\n",
      "  electronic         jazz   0.0313    1.0 -0.2477 0.3104  False\n",
      "  electronic        metal   0.0632 0.9776 -0.1188 0.2451  False\n",
      "  electronic      pop/r&b  -0.0045    1.0 -0.1503 0.1413  False\n",
      "  electronic          rap   0.0636 0.8888 -0.0749 0.2021  False\n",
      "  electronic         rock  -0.0203 0.9991 -0.1142 0.0737  False\n",
      "experimental folk/country  -0.0566 0.9964 -0.2719 0.1586  False\n",
      "experimental       global    -0.14  0.944 -0.4863 0.2062  False\n",
      "experimental         jazz  -0.0304    1.0  -0.322 0.2613  False\n",
      "experimental        metal   0.0015    1.0 -0.1993 0.2022  False\n",
      "experimental      pop/r&b  -0.0662  0.953 -0.2349 0.1025  False\n",
      "experimental          rap   0.0019    1.0 -0.1605 0.1643  False\n",
      "experimental         rock   -0.082 0.5377 -0.2086 0.0447  False\n",
      "folk/country       global  -0.0834 0.9989 -0.4568   0.29  False\n",
      "folk/country         jazz   0.0263    1.0 -0.2971 0.3497  False\n",
      "folk/country        metal   0.0581 0.9983 -0.1865 0.3027  False\n",
      "folk/country      pop/r&b  -0.0095    1.0 -0.2286 0.2095  False\n",
      "folk/country          rap   0.0585 0.9954 -0.1557 0.2728  False\n",
      "folk/country         rock  -0.0253    1.0 -0.2139 0.1633  False\n",
      "      global         jazz   0.1097 0.9967 -0.3124 0.5317  False\n",
      "      global        metal   0.1415 0.9563 -0.2237 0.5067  False\n",
      "      global      pop/r&b   0.0739 0.9992 -0.2748 0.4225  False\n",
      "      global          rap   0.1419  0.939 -0.2037 0.4876  False\n",
      "      global         rock   0.0581 0.9998 -0.2722 0.3884  False\n",
      "        jazz        metal   0.0318    1.0 -0.2821 0.3458  False\n",
      "        jazz      pop/r&b  -0.0358    1.0 -0.3303 0.2586  False\n",
      "        jazz          rap   0.0323    1.0 -0.2587 0.3232  False\n",
      "        jazz         rock  -0.0516 0.9997 -0.3241  0.221  False\n",
      "       metal      pop/r&b  -0.0676 0.9836 -0.2725 0.1372  False\n",
      "       metal          rap   0.0004    1.0 -0.1993 0.2001  False\n",
      "       metal         rock  -0.0834 0.8533 -0.2553 0.0884  False\n",
      "     pop/r&b          rap   0.0681 0.9422 -0.0993 0.2355  False\n",
      "     pop/r&b         rock  -0.0158    1.0 -0.1487 0.1172  False\n",
      "         rap         rock  -0.0839 0.4855 -0.2088 0.0411  False\n",
      "---------------------------------------------------------------\n"
     ]
    }
   ],
   "source": [
    "#Gotta be sure\n",
    "poc_hoc = pairwise_tukeyhsd(endog = data[\"score\"], groups = data[\"genre\"] ,alpha=.05)\n",
    "print(poc_hoc)"
   ]
  },
  {
   "cell_type": "markdown",
   "metadata": {
    "collapsed": false,
    "pycharm": {
     "name": "#%% md\n"
    }
   },
   "source": [
    "# Could this be because of the many contributors?"
   ]
  },
  {
   "cell_type": "code",
   "execution_count": 60,
   "metadata": {
    "collapsed": false,
    "pycharm": {
     "name": "#%%\n"
    }
   },
   "outputs": [
    {
     "data": {
      "text/plain": [
       "joe tangari           748\n",
       "stephen m. deusner    634\n",
       "ian cohen             600\n",
       "brian howe            456\n",
       "mark richardson       432\n",
       "Name: author, dtype: int64"
      ]
     },
     "execution_count": 60,
     "metadata": {},
     "output_type": "execute_result"
    }
   ],
   "source": [
    "data[\"author\"].value_counts().head(n=5)"
   ]
  },
  {
   "cell_type": "markdown",
   "metadata": {
    "collapsed": false,
    "pycharm": {
     "name": "#%% md\n"
    }
   },
   "source": [
    "# Joe Tangari\n",
    "Joe is the most well-known contributor for Pitchfork"
   ]
  },
  {
   "cell_type": "code",
   "execution_count": 72,
   "metadata": {
    "collapsed": false,
    "pycharm": {
     "name": "#%%\n"
    }
   },
   "outputs": [
    {
     "name": "stdout",
     "output_type": "stream",
     "text": [
      "      Multiple Comparison of Means - Tukey HSD, FWER=0.05      \n",
      "===============================================================\n",
      "   group1       group2    meandiff p-adj   lower  upper  reject\n",
      "---------------------------------------------------------------\n",
      "  electronic experimental   -0.066    1.0 -0.5551 0.4231  False\n",
      "  electronic folk/country   0.1962 0.9944 -0.5061 0.8985  False\n",
      "  electronic       global   0.0196    1.0 -0.9011 0.9403  False\n",
      "  electronic         jazz   0.0879    1.0 -0.7504 0.9261  False\n",
      "  electronic        metal  -0.4714 0.5085 -1.1866 0.2438  False\n",
      "  electronic      pop/r&b   0.0178    1.0 -0.5374  0.573  False\n",
      "  electronic          rap   0.1241 0.9976 -0.3768 0.6249  False\n",
      "  electronic         rock    0.053 0.9999 -0.2651 0.3711  False\n",
      "experimental folk/country   0.2622 0.9786 -0.5017 1.0262  False\n",
      "experimental       global   0.0856    1.0 -0.8829 1.0541  False\n",
      "experimental         jazz   0.1539 0.9998 -0.7366 1.0444  False\n",
      "experimental        metal  -0.4053 0.7907 -1.1811 0.3704  False\n",
      "experimental      pop/r&b   0.0838    1.0 -0.5475 0.7151  False\n",
      "experimental          rap   0.1901 0.9847  -0.394 0.7741  False\n",
      "experimental         rock   0.1191 0.9954 -0.3186 0.5567  False\n",
      "folk/country       global  -0.1766 0.9999 -1.2684 0.9152  False\n",
      "folk/country         jazz  -0.1083    1.0 -1.1316 0.9149  False\n",
      "folk/country        metal  -0.6676 0.3777 -1.5927 0.2576  False\n",
      "folk/country      pop/r&b  -0.1784 0.9989 -0.9862 0.6294  False\n",
      "folk/country          rap  -0.0721    1.0 -0.8436 0.6993  False\n",
      "folk/country         rock  -0.1432 0.9991 -0.8107 0.5243  False\n",
      "      global         jazz   0.0683    1.0 -1.1156 1.2521  False\n",
      "      global        metal   -0.491 0.9022 -1.5911 0.6091  False\n",
      "      global      pop/r&b  -0.0018    1.0 -1.0053 1.0017  False\n",
      "      global          rap   0.1045    1.0   -0.87 1.0789  False\n",
      "      global         rock   0.0334    1.0  -0.861 0.9278  False\n",
      "        jazz        metal  -0.5592 0.7554 -1.5914 0.4729  False\n",
      "        jazz      pop/r&b  -0.0701    1.0 -0.9985 0.8584  False\n",
      "        jazz          rap   0.0362    1.0 -0.8608 0.9332  False\n",
      "        jazz         rock  -0.0348    1.0 -0.8441 0.7745  False\n",
      "       metal      pop/r&b   0.4892 0.6429 -0.3298 1.3082  False\n",
      "       metal          rap   0.5954 0.3049 -0.1878 1.3786  False\n",
      "       metal         rock   0.5244 0.2878 -0.1566 1.2054  False\n",
      "     pop/r&b          rap   0.1062 0.9999 -0.5342 0.7466  False\n",
      "     pop/r&b         rock   0.0352    1.0 -0.4752 0.5456  False\n",
      "         rap         rock   -0.071 0.9999 -0.5217 0.3796  False\n",
      "---------------------------------------------------------------\n"
     ]
    }
   ],
   "source": [
    "joe = data[ data[\"author\"] == \"joe tangari\"]\n",
    "joe_hoc = pairwise_tukeyhsd(endog = joe[\"score\"], groups = joe[\"genre\"] ,alpha=.05)\n",
    "print(joe_hoc)"
   ]
  },
  {
   "cell_type": "code",
   "execution_count": 69,
   "metadata": {
    "collapsed": false,
    "pycharm": {
     "name": "#%%\n"
    }
   },
   "outputs": [
    {
     "data": {
      "text/plain": [
       "rock            322\n",
       "electronic      115\n",
       "rap              54\n",
       "pop/r&b          48\n",
       "experimental     45\n",
       "folk/country     26\n",
       "metal            12\n",
       "jazz              6\n",
       "global            6\n",
       "Name: genre, dtype: int64"
      ]
     },
     "execution_count": 69,
     "metadata": {},
     "output_type": "execute_result"
    }
   ],
   "source": [
    "steph = data[ data[\"author\"] == \"stephen m. deusner\"]\n",
    "steph[\"genre\"].value_counts()\n",
    "steph_hoc = pairwise_tukeyhsd(endog = steph[\"score\"], groups = steph[\"genre\"] ,alpha=.05)\n",
    "print(steph_hoc)"
   ]
  },
  {
   "cell_type": "markdown",
   "metadata": {
    "collapsed": false,
    "pycharm": {
     "name": "#%% md\n"
    }
   },
   "source": [
    "# How does the scores between fantano and Pitchfork compare?"
   ]
  },
  {
   "cell_type": "code",
   "execution_count": null,
   "metadata": {
    "collapsed": false,
    "pycharm": {
     "name": "#%%\n"
    }
   },
   "outputs": [],
   "source": []
  }
 ],
 "metadata": {
  "kernelspec": {
   "display_name": "Python 3.11.0 64-bit",
   "language": "python",
   "name": "python3"
  },
  "language_info": {
   "codemirror_mode": {
    "name": "ipython",
    "version": 2
   },
   "file_extension": ".py",
   "mimetype": "text/x-python",
   "name": "python",
   "nbconvert_exporter": "python",
   "pygments_lexer": "ipython2",
   "version": "3.11.0"
  },
  "vscode": {
   "interpreter": {
    "hash": "a8c265bd5de11da4d7fc60b113a9b78c7361079ca010f48889d3d78ce7a5ea10"
   }
  }
 },
 "nbformat": 4,
 "nbformat_minor": 0
}
