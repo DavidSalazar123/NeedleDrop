{
 "cells": [
  {
   "cell_type": "code",
   "execution_count": null,
   "metadata": {},
   "outputs": [],
   "source": [
    "import pandas as pd\n",
    "import numpy as np\n",
    "import re\n",
    "from bs4 import BeautifulSoup\n",
    "import requests\n",
    "import math\n",
    "pd.options.mode.chained_assignment = None\n",
    "GENRE_PATTERN = re.compile(\"[^\\/](19|20)\\d{2}\\s\\/.*\")\n",
    "PATTERN_ALBUM = re.compile(\"(EP|ALBUM|MIXTAPE|TRACK|COMPILATION) review.*\",flags = re.I)\n",
    "SELF_TITLED = re.compile(\"self-titled\", flags = re.I)\n",
    "FEATURE_PATTERN = re.compile(\"ft.*\", flags = re.I)\n",
    "NUMBER_WORDS = {\"zero\": 0,\"one\":1, \"two\":2, \"three\":3, \"four\":4, \"five\":5, \"six\":6, \"seven\":7, \"eight\":8, \"nine\":9, \"ten\":10}"
   ]
  },
  {
   "cell_type": "code",
   "execution_count": null,
   "metadata": {},
   "outputs": [],
   "source": [
    "# Convert the number words to numbers\n",
    "def num2words(num):\n",
    "    num = str(int(num))\n",
    "    if num.isdigit():\n",
    "        return num\n",
    "    else:\n",
    "        num = num.lower()\n",
    "        if num in NUMBER_WORDS:\n",
    "            return NUMBER_WORDS[num]\n",
    "        else:\n",
    "            return num"
   ]
  },
  {
   "cell_type": "code",
   "execution_count": null,
   "metadata": {},
   "outputs": [],
   "source": [
    "# Split \"-\" on the 2nd occurence\n",
    "def split2nd(string,sep=\"-\"):\n",
    "    string = str(string).encode('utf-8', 'ignore').decode('utf-8')\n",
    "    string = SELF_TITLED.sub(\"self titled\", string)\n",
    "\n",
    "    if string.count(\"-\") >= 2:\n",
    "        artist,album = sep.join(string.split(sep, 2)[:2]), sep.join(string.split(sep, 2)[2:])\n",
    "        return artist,album\n",
    "    else:\n",
    "        artist,album = string.split(sep)\n",
    "        return artist,album"
   ]
  },
  {
   "cell_type": "code",
   "execution_count": null,
   "metadata": {},
   "outputs": [],
   "source": [
    "df = pd.read_csv(\"./reviews_videos.csv\", index_col=0)\n",
    "\n",
    "# Grab the title and artist\n",
    "df['Title'] = df['Title'].str.replace(\"ep album\", \"\").str.replace(PATTERN_ALBUM, '')\n",
    "df['Title'] = df['Title'].str.replace(\"EP/\", \"\")\n",
    "df[\"Artist\"],df[\"Album\"] = zip(*df[\"Title\"].apply(split2nd))\n",
    "\n",
    "df['Album'] = df['Album'].str.replace(PATTERN_ALBUM, '')\n",
    "df['Album'] = df['Album'].str.replace(FEATURE_PATTERN, '')\n",
    "del df[\"Title\"]\n",
    "\n",
    "df[\"Album\"].mask(df[\"Album\"].str.contains(\"self titled\", case=False, na=False), df[\"Artist\"], inplace=True) # Replace self-titled with artist name\n",
    "df['Score'] = df[\"Description\"].str.extract(\"(^[A-Za-z]+\\/10|[0-9]\\/10)(?!\\d)\").replace(to_replace=\"\\/10\", value=\"\", regex=True)\n",
    "df = df[df['Score'].notna()] # Remove rows with no score\n",
    "df['Score'].apply(num2words) # Convert number words to numbers\n",
    "\n",
    "# Filter the sub-genre to the parent-genre\n",
    "df[\"Genre\"].mask(df[\"Genre\"].str.contains(\n",
    "    \"r&b|soul|funk\", case=False, na=False), \"R&B\", inplace=True)\n",
    "df[\"Genre\"].mask(df[\"Genre\"].str.contains(\n",
    "    \"hip hop|rap|trap|drill\", case=False, na=False), \"Rap\", inplace=True)\n",
    "df[\"Genre\"].mask(df[\"Genre\"].str.contains(\n",
    "    \"rock|punk|emo|screamo|grunge|metal|hardcore\", case=False, na=False), \"Rock\", inplace=True)\n",
    "df[\"Genre\"].mask(df[\"Genre\"].str.contains(\n",
    "    \"jazz|bop\", case=False, na=False), \"Jazz\", inplace=True)\n",
    "df[\"Genre\"].mask(df[\"Genre\"].str.contains(\n",
    "    \"electro|dub|synth|house|dance|disco|edm|glitch|idm\", case=False, na=False), \"Electronic\", inplace=True)\n",
    "df[\"Genre\"].mask(df[\"Genre\"].str.contains(\n",
    "    \"ambient\", case=False, na=False), \"Ambient\", inplace=True)\n",
    "df[\"Genre\"].mask(df[\"Genre\"].str.contains(\n",
    "    \"pop\", case=False, na=False), \"Pop\", inplace=True)\n",
    "df[\"Genre\"].mask(df[\"Genre\"].str.contains(\n",
    "    \"folk\", case=False, na=False), \"Folk\", inplace=True)\n",
    "df[\"Genre\"].mask(df[\"Genre\"].str.contains(\n",
    "    \"country\", case=False, na=False), \"Country\", inplace=True)\n"
   ]
  },
  {
   "attachments": {},
   "cell_type": "markdown",
   "metadata": {},
   "source": [
    "# Fix the genre when it isn't found"
   ]
  },
  {
   "cell_type": "code",
   "execution_count": null,
   "metadata": {},
   "outputs": [],
   "source": [
    "# If genre was not found, try to find it on Pitchfork\n",
    "headers = {'User-Agent': 'Mozilla/5.0 (Macintosh; Intel Mac OS X 10_10_1) AppleWebKit/537.36 (KHTML, like Gecko) Chrome/39.0.2171.95 Safari/537.36'}\n",
    "\n",
    "for index, value in df[\"Genre\"].items():\n",
    "    link = None\n",
    "\n",
    "    if value not in [\"R&B\", \"Rap\", \"Rock\", \"Jazz\", \"Electronic\", \"Ambient\", \"Pop\", \"Folk\", \"Country\"]:\n",
    "        \n",
    "        try:\n",
    "            artist = df[\"Artist\"].loc[index]\n",
    "            album = df[\"Album\"].loc[index]\n",
    "            artist_album = artist + album\n",
    "            artist_album = artist_album.strip().replace(\" \", \"%20\")\n",
    "            print(\"https://pitchfork.com/search/?query=\"+artist_album)\n",
    "\n",
    "            page = requests.get(\"https://pitchfork.com/search/?query=\" + artist_album, headers=headers)\n",
    "\n",
    "            # Parse with beautifulsoup\n",
    "            soup = BeautifulSoup(page.content, 'html.parser')\n",
    "\n",
    "            # Find the review link\n",
    "            for a in soup.find_all(\"a\", class_=\"review__link\", href=True):\n",
    "                print(f\"The album is: {album.str.lower()}\")\n",
    "                print(a.find(class_=\"review__title-album\").text.lower())\n",
    "                if a.find(class_=\"review__title-album\").text.lower() == album.str.lower():\n",
    "                    print(\"Found it!\")\n",
    "                    link = a['href']\n",
    "                    review_page = requests.get(\n",
    "                        \"https://pitchfork.com/\" + link, headers=headers)\n",
    "\n",
    "                    # Parse with beautifulsoup\n",
    "                    soup = BeautifulSoup(review_page.content, 'html.parser')\n",
    "                    df[\"Genre\"].loc[index] = soup.find(class_=\"genre-list__link\").string\n",
    "                    break\n",
    "        except:\n",
    "            df[\"Genre\"].loc[index] = \"Unknown\"\n"
   ]
  },
  {
   "attachments": {},
   "cell_type": "markdown",
   "metadata": {},
   "source": [
    "# Get highest value from redux verison"
   ]
  },
  {
   "cell_type": "code",
   "execution_count": null,
   "metadata": {},
   "outputs": [],
   "source": [
    "# If redux_df album is in df, then add the score to the original album\n",
    "redux_df = df[ df[\"Album\"].str.contains(\"redux\",case=False, na=False) ]\n",
    "df = df[ df[\"Album\"].str.contains(\"redux\",case=False, na=False) == False]\n",
    "redux_df[\"Album\"] = redux_df[\"Album\"].str.replace(\"redux\", \"\")\n",
    "\n",
    "for index, value in redux_df[\"Album\"].items():\n",
    "    for index2, value2 in df[\"Album\"].items():\n",
    "        try:\n",
    "            if value.lower().strip() == value2.lower().strip():\n",
    "                df[\"Score\"].loc[index2] = redux_df[\"Score\"].loc[index]\n",
    "        except Exception:\n",
    "            pass\n"
   ]
  },
  {
   "cell_type": "code",
   "execution_count": null,
   "metadata": {},
   "outputs": [],
   "source": [
    "# Reorder the columns\n",
    "df = df.loc[ \n",
    "    :,\n",
    "    list(df.columns[5:7])\n",
    "    + list(df.columns[4:5])\n",
    "    + list(df.columns[1:4])\n",
    "    + list(df.columns[7:8])\n",
    "    + list(df.columns[0:1])\n",
    "]\n",
    "df = df[df[\"Score\"].notna()] #Remove \n",
    "df.to_csv(\"./fantano_reviews.csv\")"
   ]
  }
 ],
 "metadata": {
  "kernelspec": {
   "display_name": "Python 3.10.8 ('ML')",
   "language": "python",
   "name": "python3"
  },
  "language_info": {
   "codemirror_mode": {
    "name": "ipython",
    "version": 3
   },
   "file_extension": ".py",
   "mimetype": "text/x-python",
   "name": "python",
   "nbconvert_exporter": "python",
   "pygments_lexer": "ipython3",
   "version": "3.10.8"
  },
  "vscode": {
   "interpreter": {
    "hash": "24655098450cfdfc86a5c9aa42e2375245240419abafb835314a302369f7ffb4"
   }
  }
 },
 "nbformat": 4,
 "nbformat_minor": 2
}
