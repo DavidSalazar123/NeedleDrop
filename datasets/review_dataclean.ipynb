{
 "cells": [
  {
   "cell_type": "code",
   "execution_count": 1,
   "metadata": {},
   "outputs": [],
   "source": [
    "import pandas as pd\n",
    "import numpy as np\n",
    "import re\n",
    "from bs4 import BeautifulSoup\n",
    "import requests\n",
    "import math\n",
    "import warnings\n",
    "warnings.simplefilter(action='ignore', category=FutureWarning)\n",
    "pd.options.mode.chained_assignment = None\n",
    "GENRE_PATTERN = re.compile(\"[^\\/](19|20)\\d{2}\\s\\/.*\")\n",
    "PATTERN_ALBUM = re.compile(\"(EP|ALBUM|MIXTAPE|TRACK|COMPILATION) review.*\",flags = re.I)\n",
    "SELF_TITLED = re.compile(\"self-titled\", flags = re.I)\n",
    "FEATURE_PATTERN = re.compile(\"ft.*\", flags = re.I)\n",
    "FAV_TRACKS = re.compile(\"FAV TRACKS:\", flags = re.I)\n",
    "NUMBER_WORDS = {\"zero\": 0,\"one\":1, \"two\":2, \"three\":3, \"four\":4, \"five\":5, \"six\":6, \"seven\":7, \"eight\":8, \"nine\":9, \"ten\":10}"
   ]
  },
  {
   "cell_type": "code",
   "execution_count": 2,
   "metadata": {},
   "outputs": [],
   "source": [
    "# Convert the number words to numbers\n",
    "def num2words(num):\n",
    "    num = str(int(num))\n",
    "    if num.isdigit():\n",
    "        return num\n",
    "    else:\n",
    "        num = num.lower()\n",
    "        if num in NUMBER_WORDS:\n",
    "            return NUMBER_WORDS[num]\n",
    "        else:\n",
    "            return num"
   ]
  },
  {
   "cell_type": "code",
   "execution_count": 3,
   "metadata": {},
   "outputs": [],
   "source": [
    "# Split \"-\" on the 2nd occurence\n",
    "def split2nd(string,sep=\"-\"):\n",
    "    string = str(string).encode('utf-8', 'ignore').decode('utf-8')\n",
    "    string = SELF_TITLED.sub(\"self titled\", string)\n",
    "\n",
    "    if string.count(\"-\") >= 2:\n",
    "        artist,album = sep.join(string.split(sep, 2)[:2]), sep.join(string.split(sep, 2)[2:])\n",
    "        return artist,album\n",
    "    else:\n",
    "        artist,album = string.split(sep)\n",
    "        return artist,album"
   ]
  },
  {
   "cell_type": "code",
   "execution_count": 4,
   "metadata": {},
   "outputs": [],
   "source": [
    "df = pd.read_csv(\"./reviews_videos.csv\", index_col=0)\n",
    "\n",
    "# Grab the title and artist\n",
    "df['Title'] = df['Title'].str.replace(\"ep album\", \"\").str.replace(PATTERN_ALBUM, '')\n",
    "df['Title'] = df['Title'].str.replace(\"EP/\", \"\")\n",
    "df[\"Artist\"],df[\"Album\"] = zip(*df[\"Title\"].apply(split2nd))\n",
    "\n",
    "df['Album'] = df['Album'].str.replace(PATTERN_ALBUM, '')\n",
    "df['Album'] = df['Album'].str.replace(FEATURE_PATTERN, '')\n",
    "del df[\"Title\"]\n",
    "\n",
    "df[\"Album\"].mask(df[\"Album\"].str.contains(\"self titled\", case=False, na=False), df[\"Artist\"], inplace=True) # Replace self-titled with artist name\n",
    "df['Score'] = df[\"Description\"].str.extract(\"(^[A-Za-z]+\\/10|[0-9]\\/10)(?!\\d)\").replace(to_replace=\"\\/10\", value=\"\", regex=True)\n",
    "df = df[df['Score'].notna()] # Remove rows with no score\n",
    "df['Score'].apply(num2words) # Convert number words to numbers\n",
    "\n",
    "# Filter the sub-genre to the parent-genre\n",
    "df[\"Genre\"].mask(df[\"Genre\"].str.contains(\n",
    "    \"r&b|soul|funk\", case=False, na=False), \"R&B\", inplace=True)\n",
    "df[\"Genre\"].mask(df[\"Genre\"].str.contains(\n",
    "    \"hip hop|rap|trap|drill\", case=False, na=False), \"Rap\", inplace=True)\n",
    "df[\"Genre\"].mask(df[\"Genre\"].str.contains(\n",
    "    \"rock|punk|emo|screamo|grunge|metal|hardcore\", case=False, na=False), \"Rock\", inplace=True)\n",
    "df[\"Genre\"].mask(df[\"Genre\"].str.contains(\n",
    "    \"jazz|bop\", case=False, na=False), \"Jazz\", inplace=True)\n",
    "df[\"Genre\"].mask(df[\"Genre\"].str.contains(\n",
    "    \"electro|dub|synth|house|dance|disco|edm|glitch|idm\", case=False, na=False), \"Electronic\", inplace=True)\n",
    "df[\"Genre\"].mask(df[\"Genre\"].str.contains(\n",
    "    \"ambient\", case=False, na=False), \"Ambient\", inplace=True)\n",
    "df[\"Genre\"].mask(df[\"Genre\"].str.contains(\n",
    "    \"pop\", case=False, na=False), \"Pop\", inplace=True)\n",
    "df[\"Genre\"].mask(df[\"Genre\"].str.contains(\n",
    "    \"folk\", case=False, na=False), \"Folk\", inplace=True)\n",
    "df[\"Genre\"].mask(df[\"Genre\"].str.contains(\n",
    "    \"country\", case=False, na=False), \"Country\", inplace=True)\n"
   ]
  },
  {
   "attachments": {},
   "cell_type": "markdown",
   "metadata": {},
   "source": [
    "# Fix the genre when it isn't found"
   ]
  },
  {
   "cell_type": "code",
   "execution_count": 5,
   "metadata": {},
   "outputs": [
    {
     "name": "stdout",
     "output_type": "stream",
     "text": [
      "https://pitchfork.com/search/?query=yeat%20%20lyfë\n",
      "https://pitchfork.com/search/?query=hudson%20mohawke%20%20cry%20sugar\n",
      "https://pitchfork.com/search/?query=panda%20bear%20&%20sonic%20boom%20%20reset\n",
      "https://pitchfork.com/search/?query=meridian%20brothers%20%20meridian%20brothers%20&%20el%20grupo%20renacimiento\n",
      "https://pitchfork.com/search/?query=wormrot%20%20hiss\n",
      "https://pitchfork.com/search/?query=zola%20jesus%20%20arkhon\n",
      "https://pitchfork.com/search/?query=regina%20spektor%20%20home,%20before%20and%20a\n",
      "https://pitchfork.com/search/?query=kendrick%20lamar%20%20mr.%20morale%20&%20the%20big%20steppers\n",
      "https://pitchfork.com/search/?query=animal%20collective%20%20time%20skiffs\n",
      "https://pitchfork.com/search/?query=fire-toolz%20%20eternal%20home\n",
      "https://pitchfork.com/search/?query=catbite%20%20nice%20one\n",
      "https://pitchfork.com/search/?query=juçara%20marçal%20%20delta%20estácio%20blues\n",
      "https://pitchfork.com/search/?query=lil%20ugly%20mane%20%20volcanic%20bird%20enemy%20and%20the%20voiced%20concern\n",
      "https://pitchfork.com/search/?query=lil%20nas%20x%20%20montero\n",
      "https://pitchfork.com/search/?query=kanye%20west%20%20donda\n",
      "https://pitchfork.com/search/?query=iglooghost%20%20lei%20line%20eon\n",
      "https://pitchfork.com/search/?query=ad%20nauseam%20%20imperative%20imperceptible%20impulse\n",
      "https://pitchfork.com/search/?query=kylie%20minogue%20%20disco\n",
      "https://pitchfork.com/search/?query=busta%20rhymes%20%20extinction%20level%20event%202:%20the%20wrath%20of%20god\n",
      "https://pitchfork.com/search/?query=anna%20von%20hausswolff%20%20all%20thoughts%20fly\n",
      "https://pitchfork.com/search/?query=neil%20cicierega%20%20mouth%20dreams\n",
      "https://pitchfork.com/search/?query=meridian%20brothers%20%20cumbia%20siglo%20xxi\n",
      "https://pitchfork.com/search/?query=a.%20g.%20cook%20%207g\n",
      "https://pitchfork.com/search/?query=the%20microphones%20%20microphones%20in%202020\n",
      "https://pitchfork.com/search/?query=100%20gecs%20%201000%20gecs%20and%20the%20tree%20of%20clues\n",
      "https://pitchfork.com/search/?query=xibalba%20%20años%20en%20infierno\n",
      "https://pitchfork.com/search/?query=umbra%20vitae%20%20shadow%20of%20life\n",
      "https://pitchfork.com/search/?query=gupi%20%20none\n",
      "https://pitchfork.com/search/?query=lingua%20ignota%20%20caligula\n",
      "https://pitchfork.com/search/?query=bill%20callahan%20%20shepherd%20in%20a%20sheepskin%20vest\n"
     ]
    }
   ],
   "source": [
    "# If genre was not found, try to find it on Pitchfork\n",
    "headers = {'User-Agent': 'Mozilla/5.0 (Macintosh; Intel Mac OS X 10_10_1) AppleWebKit/537.36 (KHTML, like Gecko) Chrome/39.0.2171.95 Safari/537.36'}\n",
    "\n",
    "for index, value in df[\"Genre\"].items():\n",
    "    link = None\n",
    "\n",
    "    if value not in [\"R&B\", \"Rap\", \"Rock\", \"Jazz\", \"Electronic\", \"Ambient\", \"Pop\", \"Folk\", \"Country\"]:\n",
    "        \n",
    "        try:\n",
    "            artist = df[\"Artist\"].loc[index]\n",
    "            album = df[\"Album\"].loc[index]\n",
    "            artist_album = artist + album\n",
    "            artist_album = artist_album.strip().replace(\" \", \"%20\")\n",
    "            print(\"https://pitchfork.com/search/?query=\"+artist_album)\n",
    "\n",
    "            page = requests.get(\"https://pitchfork.com/search/?query=\" + artist_album, headers=headers)\n",
    "\n",
    "            # Parse with beautifulsoup\n",
    "            soup = BeautifulSoup(page.content, 'html.parser')\n",
    "\n",
    "            # Find the review link\n",
    "            for a in soup.find_all(\"a\", class_=\"review__link\", href=True):\n",
    "                print(f\"The album is: {album.str.lower()}\")\n",
    "                print(a.find(class_=\"review__title-album\").text.lower())\n",
    "                if a.find(class_=\"review__title-album\").text.lower() == album.str.lower():\n",
    "                    print(\"Found it!\")\n",
    "                    link = a['href']\n",
    "                    review_page = requests.get(\n",
    "                        \"https://pitchfork.com/\" + link, headers=headers)\n",
    "\n",
    "                    # Parse with beautifulsoup\n",
    "                    soup = BeautifulSoup(review_page.content, 'html.parser')\n",
    "                    df[\"Genre\"].loc[index] = soup.find(class_=\"genre-list__link\").string\n",
    "                    break\n",
    "        except:\n",
    "            df[\"Genre\"].loc[index] = \"Unknown\""
   ]
  },
  {
   "attachments": {},
   "cell_type": "markdown",
   "metadata": {},
   "source": [
    "# Get highest value from redux verison"
   ]
  },
  {
   "cell_type": "code",
   "execution_count": null,
   "metadata": {},
   "outputs": [],
   "source": [
    "# If redux_df album is in df, then add the score to the original album\n",
    "redux_df = df[ df[\"Album\"].str.contains(\"redux\",case=False, na=False) ]\n",
    "df = df[ df[\"Album\"].str.contains(\"redux\",case=False, na=False) == False]\n",
    "redux_df[\"Album\"] = redux_df[\"Album\"].str.replace(\"redux\", \"\")\n",
    "\n",
    "for index, value in redux_df[\"Album\"].items():\n",
    "    for index2, value2 in df[\"Album\"].items():\n",
    "        try:\n",
    "            if value.lower().strip() == value2.lower().strip():\n",
    "                df[\"Score\"].loc[index2] = redux_df[\"Score\"].loc[index]\n",
    "        except Exception:\n",
    "            pass\n"
   ]
  },
  {
   "attachments": {},
   "cell_type": "markdown",
   "metadata": {},
   "source": [
    "# Get the Least Fav Tracks and Fav Tracks"
   ]
  },
  {
   "cell_type": "code",
   "execution_count": null,
   "metadata": {},
   "outputs": [],
   "source": [
    "# Get fav tracks and least fav tracks from description\n",
    "df[\"Fav Tracks\"] = df[\"Description\"].str.extract('(FAV TRACKS:.*)',flags=re.IGNORECASE)\n",
    "df[\"Fav Tracks\"] = df[\"Fav Tracks\"].str.replace(\"FAV TRACK[S-s]?:\", \"\")\n",
    "df[\"Least Fav Tracks\"] = df[\"Description\"].str.extract('(LEAST FAV TRACK[S-s]?:.*)',flags=re.IGNORECASE)\n",
    "df[\"Least Fav Tracks\"] = df[\"Least Fav Tracks\"].str.replace(\"LEAST FAV TRACK[S-s]?:\", \"\")\n",
    "df"
   ]
  },
  {
   "cell_type": "code",
   "execution_count": null,
   "metadata": {},
   "outputs": [],
   "source": [
    "# Reorder the columns\n",
    "df = df.loc[ \n",
    "    :,\n",
    "    list(df.columns[5:7])\n",
    "    + list(df.columns[4:5])\n",
    "    + list(df.columns[1:4])\n",
    "    + list(df.columns[7:8])\n",
    "    + list(df.columns[8:10])\n",
    "    + list(df.columns[0:1])\n",
    "]\n",
    "df"
   ]
  },
  {
   "cell_type": "code",
   "execution_count": null,
   "metadata": {},
   "outputs": [],
   "source": [
    "df.to_csv(\"./fantano_reviews.csv\")"
   ]
  }
 ],
 "metadata": {
  "kernelspec": {
   "display_name": "Python 3.10.8 ('ML')",
   "language": "python",
   "name": "python3"
  },
  "language_info": {
   "codemirror_mode": {
    "name": "ipython",
    "version": 3
   },
   "file_extension": ".py",
   "mimetype": "text/x-python",
   "name": "python",
   "nbconvert_exporter": "python",
   "pygments_lexer": "ipython3",
   "version": "3.10.8 | packaged by conda-forge | (main, Nov 24 2022, 14:07:00) [MSC v.1916 64 bit (AMD64)]"
  },
  "vscode": {
   "interpreter": {
    "hash": "24655098450cfdfc86a5c9aa42e2375245240419abafb835314a302369f7ffb4"
   }
  }
 },
 "nbformat": 4,
 "nbformat_minor": 2
}
