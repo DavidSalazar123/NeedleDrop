{
 "cells": [
  {
   "cell_type": "code",
   "execution_count": 3,
   "metadata": {
    "pycharm": {
     "name": "#%%\n"
    }
   },
   "outputs": [],
   "source": [
    "import matplotlib.pyplot as plt\n",
    "from bs4 import BeautifulSoup\n",
    "import requests\n",
    "import pandas as pd\n",
    "import time\n",
    "import math\n",
    "from selenium import webdriver\n",
    "from selenium.webdriver.common.by import By\n",
    "import re\n",
    "HOME = \"https://www.youtube.com/user/theneedledrop/videos\""
   ]
  },
  {
   "cell_type": "code",
   "execution_count": 4,
   "metadata": {
    "pycharm": {
     "name": "#%%\n"
    }
   },
   "outputs": [],
   "source": [
    "def scroll():\n",
    "    \"\"\"\n",
    "    scrolls to the bottom of the page\n",
    "    code taken from https://stackoverflow.com/questions/20986631/how-can-i-scroll-a-web-page-using-selenium-webdriver-in-python\n",
    "    modified slightly for YouTube\n",
    "    \"\"\"\n",
    "    SCROLL_PAUSE_TIME = 0.5\n",
    "\n",
    "    last_height = driver.execute_script(\"return window.scrollY\")\n",
    "\n",
    "    tries = 0\n",
    "    while True:\n",
    "        down_height = last_height + 1000\n",
    "        driver.execute_script(\"window.scrollTo(0,\" + str(down_height)  + \")\")\n",
    "\n",
    "        time.sleep(SCROLL_PAUSE_TIME)\n",
    "\n",
    "        new_height = driver.execute_script(\"return window.scrollY\")\n",
    "        if new_height == last_height:\n",
    "            tries += 1\n",
    "            time.sleep(SCROLL_PAUSE_TIME)\n",
    "            if tries == 50:\n",
    "                break\n",
    "        else:\n",
    "            tries = 0\n",
    "        last_height = new_height"
   ]
  },
  {
   "cell_type": "code",
   "execution_count": 25,
   "metadata": {
    "pycharm": {
     "name": "#%%\n"
    }
   },
   "outputs": [
    {
     "ename": "AttributeError",
     "evalue": "'DataFrame' object has no attribute 'Chrome'",
     "output_type": "error",
     "traceback": [
      "\u001b[1;31m---------------------------------------------------------------------------\u001b[0m",
      "\u001b[1;31mAttributeError\u001b[0m                            Traceback (most recent call last)",
      "Cell \u001b[1;32mIn [25], line 3\u001b[0m\n\u001b[0;32m      1\u001b[0m \u001b[39m#Scrape for videos\u001b[39;00m\n\u001b[0;32m      2\u001b[0m \u001b[39m# WARNING: Takes very long\u001b[39;00m\n\u001b[1;32m----> 3\u001b[0m driver \u001b[39m=\u001b[39m webdriver\u001b[39m.\u001b[39;49mChrome(service\u001b[39m=\u001b[39mService(ChromeDriverManager()\u001b[39m.\u001b[39minstall()))\n\u001b[0;32m      4\u001b[0m driver\u001b[39m.\u001b[39mget(HOME)\n\u001b[0;32m      6\u001b[0m scroll()\n",
      "File \u001b[1;32mc:\\Users\\David Salazar\\anaconda3\\envs\\ML\\lib\\site-packages\\pandas\\core\\generic.py:5902\u001b[0m, in \u001b[0;36mNDFrame.__getattr__\u001b[1;34m(self, name)\u001b[0m\n\u001b[0;32m   5895\u001b[0m \u001b[39mif\u001b[39;00m (\n\u001b[0;32m   5896\u001b[0m     name \u001b[39mnot\u001b[39;00m \u001b[39min\u001b[39;00m \u001b[39mself\u001b[39m\u001b[39m.\u001b[39m_internal_names_set\n\u001b[0;32m   5897\u001b[0m     \u001b[39mand\u001b[39;00m name \u001b[39mnot\u001b[39;00m \u001b[39min\u001b[39;00m \u001b[39mself\u001b[39m\u001b[39m.\u001b[39m_metadata\n\u001b[0;32m   5898\u001b[0m     \u001b[39mand\u001b[39;00m name \u001b[39mnot\u001b[39;00m \u001b[39min\u001b[39;00m \u001b[39mself\u001b[39m\u001b[39m.\u001b[39m_accessors\n\u001b[0;32m   5899\u001b[0m     \u001b[39mand\u001b[39;00m \u001b[39mself\u001b[39m\u001b[39m.\u001b[39m_info_axis\u001b[39m.\u001b[39m_can_hold_identifiers_and_holds_name(name)\n\u001b[0;32m   5900\u001b[0m ):\n\u001b[0;32m   5901\u001b[0m     \u001b[39mreturn\u001b[39;00m \u001b[39mself\u001b[39m[name]\n\u001b[1;32m-> 5902\u001b[0m \u001b[39mreturn\u001b[39;00m \u001b[39mobject\u001b[39;49m\u001b[39m.\u001b[39;49m\u001b[39m__getattribute__\u001b[39;49m(\u001b[39mself\u001b[39;49m, name)\n",
      "\u001b[1;31mAttributeError\u001b[0m: 'DataFrame' object has no attribute 'Chrome'"
     ]
    }
   ],
   "source": [
    "#Scrape for videos\n",
    "# WARNING: Takes very long\n",
    "driver = webdriver.Chrome(\"C:\\webdriver\\chromedriver.exe\")\n",
    "driver.get(HOME)\n",
    "\n",
    "scroll()\n",
    "element_titles = driver.find_elements(By.ID,\"video-title\")"
   ]
  },
  {
   "cell_type": "code",
   "execution_count": 20,
   "metadata": {},
   "outputs": [
    {
     "data": {
      "text/plain": [
       "3955"
      ]
     },
     "execution_count": 20,
     "metadata": {},
     "output_type": "execute_result"
    }
   ],
   "source": [
    "len(element_titles)"
   ]
  },
  {
   "cell_type": "code",
   "execution_count": 24,
   "metadata": {},
   "outputs": [
    {
     "data": {
      "text/plain": [
       "{'ATTRIBUTE_NODE': 2,\n",
       " 'CDATA_SECTION_NODE': 4,\n",
       " 'COMMENT_NODE': 8,\n",
       " 'DOCUMENT_FRAGMENT_NODE': 11,\n",
       " 'DOCUMENT_NODE': 9,\n",
       " 'DOCUMENT_POSITION_CONTAINED_BY': 16,\n",
       " 'DOCUMENT_POSITION_CONTAINS': 8,\n",
       " 'DOCUMENT_POSITION_DISCONNECTED': 1,\n",
       " 'DOCUMENT_POSITION_FOLLOWING': 4,\n",
       " 'DOCUMENT_POSITION_IMPLEMENTATION_SPECIFIC': 32,\n",
       " 'DOCUMENT_POSITION_PRECEDING': 2,\n",
       " 'DOCUMENT_TYPE_NODE': 10,\n",
       " 'ELEMENT_NODE': 1,\n",
       " 'ENTITY_NODE': 6,\n",
       " 'ENTITY_REFERENCE_NODE': 5,\n",
       " 'NOTATION_NODE': 12,\n",
       " 'PROCESSING_INSTRUCTION_NODE': 7,\n",
       " 'TEXT_NODE': 3,\n",
       " '__shady_addEventListener': {},\n",
       " '__shady_appendChild': {},\n",
       " '__shady_childNodes': [],\n",
       " '__shady_cloneNode': {},\n",
       " '__shady_contains': {},\n",
       " '__shady_dispatchEvent': {},\n",
       " '__shady_firstChild': None,\n",
       " '__shady_getRootNode': {},\n",
       " '__shady_insertBefore': {},\n",
       " '__shady_isConnected': False,\n",
       " '__shady_lastChild': None,\n",
       " '__shady_native_addEventListener': {},\n",
       " '__shady_native_appendChild': {},\n",
       " '__shady_native_childNodes': [],\n",
       " '__shady_native_cloneNode': {},\n",
       " '__shady_native_contains': {},\n",
       " '__shady_native_dispatchEvent': {},\n",
       " '__shady_native_firstChild': None,\n",
       " '__shady_native_insertBefore': {},\n",
       " '__shady_native_lastChild': None,\n",
       " '__shady_native_nextSibling': None,\n",
       " '__shady_native_parentElement': None,\n",
       " '__shady_native_parentNode': None,\n",
       " '__shady_native_previousSibling': None,\n",
       " '__shady_native_removeChild': {},\n",
       " '__shady_native_removeEventListener': {},\n",
       " '__shady_native_replaceChild': {},\n",
       " '__shady_native_textContent': 'video-title',\n",
       " '__shady_nextSibling': None,\n",
       " '__shady_parentElement': None,\n",
       " '__shady_parentNode': None,\n",
       " '__shady_previousSibling': None,\n",
       " '__shady_removeChild': {},\n",
       " '__shady_removeEventListener': {},\n",
       " '__shady_replaceChild': {},\n",
       " '__shady_textContent': 'video-title',\n",
       " 'addEventListener': {},\n",
       " 'appendChild': {},\n",
       " 'baseURI': 'https://www.youtube.com/user/theneedledrop/videos',\n",
       " 'childNodes': [],\n",
       " 'cloneNode': {},\n",
       " 'compareDocumentPosition': {},\n",
       " 'contains': {},\n",
       " 'dispatchEvent': {},\n",
       " 'firstChild': None,\n",
       " 'getRootNode': {},\n",
       " 'hasChildNodes': {},\n",
       " 'insertBefore': {},\n",
       " 'isConnected': False,\n",
       " 'isDefaultNamespace': {},\n",
       " 'isEqualNode': {},\n",
       " 'isSameNode': {},\n",
       " 'lastChild': None,\n",
       " 'localName': 'id',\n",
       " 'lookupNamespaceURI': {},\n",
       " 'lookupPrefix': {},\n",
       " 'name': 'id',\n",
       " 'namespaceURI': None,\n",
       " 'nextSibling': None,\n",
       " 'nodeName': 'id',\n",
       " 'nodeType': 2,\n",
       " 'nodeValue': 'video-title',\n",
       " 'normalize': {},\n",
       " 'ownerDocument': <selenium.webdriver.remote.webelement.WebElement (session=\"906f0b2a91a96de78811a8b48c702ce9\", element=\"4105d26d-55b3-49a1-b657-10bbbbf43c84\")>,\n",
       " 'ownerElement': <selenium.webdriver.remote.webelement.WebElement (session=\"906f0b2a91a96de78811a8b48c702ce9\", element=\"c0d38452-435c-489a-8cb8-858adc4828b9\")>,\n",
       " 'parentElement': None,\n",
       " 'parentNode': None,\n",
       " 'prefix': None,\n",
       " 'previousSibling': None,\n",
       " 'removeChild': {},\n",
       " 'removeEventListener': {},\n",
       " 'replaceChild': {},\n",
       " 'specified': True,\n",
       " 'textContent': 'video-title',\n",
       " 'value': 'video-title'}"
      ]
     },
     "execution_count": 24,
     "metadata": {},
     "output_type": "execute_result"
    }
   ],
   "source": [
    "element_titles[0].get_property('attributes')[0]"
   ]
  },
  {
   "cell_type": "markdown",
   "metadata": {},
   "source": [
    "Look into Pytube for library"
   ]
  },
  {
   "cell_type": "code",
   "execution_count": 16,
   "metadata": {
    "pycharm": {
     "name": "#%%\n"
    }
   },
   "outputs": [
    {
     "name": "stdout",
     "output_type": "stream",
     "text": [
      "Denzel Curry, MGK, JID, AJR | Weekly Track Roundup: 11/28/22\n",
      "None\n"
     ]
    },
    {
     "ename": "MissingSchema",
     "evalue": "Invalid URL 'None': No scheme supplied. Perhaps you meant http://None?",
     "output_type": "error",
     "traceback": [
      "\u001b[1;31m---------------------------------------------------------------------------\u001b[0m",
      "\u001b[1;31mMissingSchema\u001b[0m                             Traceback (most recent call last)",
      "Cell \u001b[1;32mIn [16], line 9\u001b[0m\n\u001b[0;32m      7\u001b[0m     \u001b[39mprint\u001b[39m(title)\n\u001b[0;32m      8\u001b[0m     \u001b[39mprint\u001b[39m( element\u001b[39m.\u001b[39mget_attribute(\u001b[39m\"\u001b[39m\u001b[39mhref\u001b[39m\u001b[39m\"\u001b[39m))\n\u001b[1;32m----> 9\u001b[0m     \u001b[39mprint\u001b[39m( requests\u001b[39m.\u001b[39;49mget(element\u001b[39m.\u001b[39;49mget_attribute(\u001b[39m\"\u001b[39;49m\u001b[39mhref\u001b[39;49m\u001b[39m\"\u001b[39;49m)))\n\u001b[0;32m     10\u001b[0m \u001b[39m#Not Good and Classics are included within this data\u001b[39;00m\n\u001b[0;32m     11\u001b[0m     \u001b[39mtry\u001b[39;00m:\n",
      "File \u001b[1;32mc:\\Users\\David Salazar\\anaconda3\\envs\\ML\\lib\\site-packages\\requests\\api.py:73\u001b[0m, in \u001b[0;36mget\u001b[1;34m(url, params, **kwargs)\u001b[0m\n\u001b[0;32m     62\u001b[0m \u001b[39mdef\u001b[39;00m \u001b[39mget\u001b[39m(url, params\u001b[39m=\u001b[39m\u001b[39mNone\u001b[39;00m, \u001b[39m*\u001b[39m\u001b[39m*\u001b[39mkwargs):\n\u001b[0;32m     63\u001b[0m     \u001b[39mr\u001b[39m\u001b[39m\"\"\"Sends a GET request.\u001b[39;00m\n\u001b[0;32m     64\u001b[0m \n\u001b[0;32m     65\u001b[0m \u001b[39m    :param url: URL for the new :class:`Request` object.\u001b[39;00m\n\u001b[1;32m   (...)\u001b[0m\n\u001b[0;32m     70\u001b[0m \u001b[39m    :rtype: requests.Response\u001b[39;00m\n\u001b[0;32m     71\u001b[0m \u001b[39m    \"\"\"\u001b[39;00m\n\u001b[1;32m---> 73\u001b[0m     \u001b[39mreturn\u001b[39;00m request(\u001b[39m\"\u001b[39m\u001b[39mget\u001b[39m\u001b[39m\"\u001b[39m, url, params\u001b[39m=\u001b[39mparams, \u001b[39m*\u001b[39m\u001b[39m*\u001b[39mkwargs)\n",
      "File \u001b[1;32mc:\\Users\\David Salazar\\anaconda3\\envs\\ML\\lib\\site-packages\\requests\\api.py:59\u001b[0m, in \u001b[0;36mrequest\u001b[1;34m(method, url, **kwargs)\u001b[0m\n\u001b[0;32m     55\u001b[0m \u001b[39m# By using the 'with' statement we are sure the session is closed, thus we\u001b[39;00m\n\u001b[0;32m     56\u001b[0m \u001b[39m# avoid leaving sockets open which can trigger a ResourceWarning in some\u001b[39;00m\n\u001b[0;32m     57\u001b[0m \u001b[39m# cases, and look like a memory leak in others.\u001b[39;00m\n\u001b[0;32m     58\u001b[0m \u001b[39mwith\u001b[39;00m sessions\u001b[39m.\u001b[39mSession() \u001b[39mas\u001b[39;00m session:\n\u001b[1;32m---> 59\u001b[0m     \u001b[39mreturn\u001b[39;00m session\u001b[39m.\u001b[39mrequest(method\u001b[39m=\u001b[39mmethod, url\u001b[39m=\u001b[39murl, \u001b[39m*\u001b[39m\u001b[39m*\u001b[39mkwargs)\n",
      "File \u001b[1;32mc:\\Users\\David Salazar\\anaconda3\\envs\\ML\\lib\\site-packages\\requests\\sessions.py:573\u001b[0m, in \u001b[0;36mSession.request\u001b[1;34m(self, method, url, params, data, headers, cookies, files, auth, timeout, allow_redirects, proxies, hooks, stream, verify, cert, json)\u001b[0m\n\u001b[0;32m    560\u001b[0m \u001b[39m# Create the Request.\u001b[39;00m\n\u001b[0;32m    561\u001b[0m req \u001b[39m=\u001b[39m Request(\n\u001b[0;32m    562\u001b[0m     method\u001b[39m=\u001b[39mmethod\u001b[39m.\u001b[39mupper(),\n\u001b[0;32m    563\u001b[0m     url\u001b[39m=\u001b[39murl,\n\u001b[1;32m   (...)\u001b[0m\n\u001b[0;32m    571\u001b[0m     hooks\u001b[39m=\u001b[39mhooks,\n\u001b[0;32m    572\u001b[0m )\n\u001b[1;32m--> 573\u001b[0m prep \u001b[39m=\u001b[39m \u001b[39mself\u001b[39;49m\u001b[39m.\u001b[39;49mprepare_request(req)\n\u001b[0;32m    575\u001b[0m proxies \u001b[39m=\u001b[39m proxies \u001b[39mor\u001b[39;00m {}\n\u001b[0;32m    577\u001b[0m settings \u001b[39m=\u001b[39m \u001b[39mself\u001b[39m\u001b[39m.\u001b[39mmerge_environment_settings(\n\u001b[0;32m    578\u001b[0m     prep\u001b[39m.\u001b[39murl, proxies, stream, verify, cert\n\u001b[0;32m    579\u001b[0m )\n",
      "File \u001b[1;32mc:\\Users\\David Salazar\\anaconda3\\envs\\ML\\lib\\site-packages\\requests\\sessions.py:484\u001b[0m, in \u001b[0;36mSession.prepare_request\u001b[1;34m(self, request)\u001b[0m\n\u001b[0;32m    481\u001b[0m     auth \u001b[39m=\u001b[39m get_netrc_auth(request\u001b[39m.\u001b[39murl)\n\u001b[0;32m    483\u001b[0m p \u001b[39m=\u001b[39m PreparedRequest()\n\u001b[1;32m--> 484\u001b[0m p\u001b[39m.\u001b[39;49mprepare(\n\u001b[0;32m    485\u001b[0m     method\u001b[39m=\u001b[39;49mrequest\u001b[39m.\u001b[39;49mmethod\u001b[39m.\u001b[39;49mupper(),\n\u001b[0;32m    486\u001b[0m     url\u001b[39m=\u001b[39;49mrequest\u001b[39m.\u001b[39;49murl,\n\u001b[0;32m    487\u001b[0m     files\u001b[39m=\u001b[39;49mrequest\u001b[39m.\u001b[39;49mfiles,\n\u001b[0;32m    488\u001b[0m     data\u001b[39m=\u001b[39;49mrequest\u001b[39m.\u001b[39;49mdata,\n\u001b[0;32m    489\u001b[0m     json\u001b[39m=\u001b[39;49mrequest\u001b[39m.\u001b[39;49mjson,\n\u001b[0;32m    490\u001b[0m     headers\u001b[39m=\u001b[39;49mmerge_setting(\n\u001b[0;32m    491\u001b[0m         request\u001b[39m.\u001b[39;49mheaders, \u001b[39mself\u001b[39;49m\u001b[39m.\u001b[39;49mheaders, dict_class\u001b[39m=\u001b[39;49mCaseInsensitiveDict\n\u001b[0;32m    492\u001b[0m     ),\n\u001b[0;32m    493\u001b[0m     params\u001b[39m=\u001b[39;49mmerge_setting(request\u001b[39m.\u001b[39;49mparams, \u001b[39mself\u001b[39;49m\u001b[39m.\u001b[39;49mparams),\n\u001b[0;32m    494\u001b[0m     auth\u001b[39m=\u001b[39;49mmerge_setting(auth, \u001b[39mself\u001b[39;49m\u001b[39m.\u001b[39;49mauth),\n\u001b[0;32m    495\u001b[0m     cookies\u001b[39m=\u001b[39;49mmerged_cookies,\n\u001b[0;32m    496\u001b[0m     hooks\u001b[39m=\u001b[39;49mmerge_hooks(request\u001b[39m.\u001b[39;49mhooks, \u001b[39mself\u001b[39;49m\u001b[39m.\u001b[39;49mhooks),\n\u001b[0;32m    497\u001b[0m )\n\u001b[0;32m    498\u001b[0m \u001b[39mreturn\u001b[39;00m p\n",
      "File \u001b[1;32mc:\\Users\\David Salazar\\anaconda3\\envs\\ML\\lib\\site-packages\\requests\\models.py:368\u001b[0m, in \u001b[0;36mPreparedRequest.prepare\u001b[1;34m(self, method, url, headers, files, data, params, auth, cookies, hooks, json)\u001b[0m\n\u001b[0;32m    365\u001b[0m \u001b[39m\"\"\"Prepares the entire request with the given parameters.\"\"\"\u001b[39;00m\n\u001b[0;32m    367\u001b[0m \u001b[39mself\u001b[39m\u001b[39m.\u001b[39mprepare_method(method)\n\u001b[1;32m--> 368\u001b[0m \u001b[39mself\u001b[39;49m\u001b[39m.\u001b[39;49mprepare_url(url, params)\n\u001b[0;32m    369\u001b[0m \u001b[39mself\u001b[39m\u001b[39m.\u001b[39mprepare_headers(headers)\n\u001b[0;32m    370\u001b[0m \u001b[39mself\u001b[39m\u001b[39m.\u001b[39mprepare_cookies(cookies)\n",
      "File \u001b[1;32mc:\\Users\\David Salazar\\anaconda3\\envs\\ML\\lib\\site-packages\\requests\\models.py:439\u001b[0m, in \u001b[0;36mPreparedRequest.prepare_url\u001b[1;34m(self, url, params)\u001b[0m\n\u001b[0;32m    436\u001b[0m     \u001b[39mraise\u001b[39;00m InvalidURL(\u001b[39m*\u001b[39me\u001b[39m.\u001b[39margs)\n\u001b[0;32m    438\u001b[0m \u001b[39mif\u001b[39;00m \u001b[39mnot\u001b[39;00m scheme:\n\u001b[1;32m--> 439\u001b[0m     \u001b[39mraise\u001b[39;00m MissingSchema(\n\u001b[0;32m    440\u001b[0m         \u001b[39mf\u001b[39m\u001b[39m\"\u001b[39m\u001b[39mInvalid URL \u001b[39m\u001b[39m{\u001b[39;00murl\u001b[39m!r}\u001b[39;00m\u001b[39m: No scheme supplied. \u001b[39m\u001b[39m\"\u001b[39m\n\u001b[0;32m    441\u001b[0m         \u001b[39mf\u001b[39m\u001b[39m\"\u001b[39m\u001b[39mPerhaps you meant http://\u001b[39m\u001b[39m{\u001b[39;00murl\u001b[39m}\u001b[39;00m\u001b[39m?\u001b[39m\u001b[39m\"\u001b[39m\n\u001b[0;32m    442\u001b[0m     )\n\u001b[0;32m    444\u001b[0m \u001b[39mif\u001b[39;00m \u001b[39mnot\u001b[39;00m host:\n\u001b[0;32m    445\u001b[0m     \u001b[39mraise\u001b[39;00m InvalidURL(\u001b[39mf\u001b[39m\u001b[39m\"\u001b[39m\u001b[39mInvalid URL \u001b[39m\u001b[39m{\u001b[39;00murl\u001b[39m!r}\u001b[39;00m\u001b[39m: No host supplied\u001b[39m\u001b[39m\"\u001b[39m)\n",
      "\u001b[1;31mMissingSchema\u001b[0m: Invalid URL 'None': No scheme supplied. Perhaps you meant http://None?"
     ]
    }
   ],
   "source": [
    "#Creation of the data\n",
    "GENRE_PATTERN = re.compile(\"[^\\/](19|20)\\d{2}\\s\\/.*\")\n",
    "PATTERN = re.compile('(?<=shortDescription\":\").*(?=\",\"isCrawlable)')\n",
    "musicdataDF = pd.DataFrame(columns=[\"Description\"])\n",
    "for element in element_titles:\n",
    "    title = element.text\n",
    "    print(title)\n",
    "    print( element.get_attribute(\"href\"))\n",
    "    print( requests.get(element.get_attribute(\"href\")))\n",
    "#Not Good and Classics are included within this data\n",
    "    try:\n",
    "        if \"review\" in title.lower() and \"track review\" not in title.lower() and \"yunoreview\" not in title.lower() and \"weekly track\" not in title.lower():\n",
    "            #Get Description of video\n",
    "            soup = BeautifulSoup(requests.get(element.get_attribute(\"href\")).content)\n",
    "            description = PATTERN.findall(str(soup))[0].replace('\\\\n','\\n').lower()\n",
    "            print(description)\n",
    "            row = {\"Description\":description}\n",
    "            musicdataDF = musicdataDF.append(row,ignore_index=True)\n",
    "    except Exception:\n",
    "        pass"
   ]
  },
  {
   "cell_type": "code",
   "execution_count": null,
   "metadata": {},
   "outputs": [],
   "source": [
    "title = element.text\n",
    "    print(title)\n",
    "    print( element.get_attribute(\"href\"))\n",
    "    print( requests.get(element.get_attribute(\"href\")))\n",
    "#Not Good and Classics are included within this data\n",
    "    try:\n",
    "        if \"review\" in title.lower() and \"track review\" not in title.lower() and \"yunoreview\" not in title.lower() and \"weekly track\" not in title.lower():\n",
    "            #Get Description of video\n",
    "            soup = BeautifulSoup(requests.get(element.get_attribute(\"href\")).content)\n",
    "            description = PATTERN.findall(str(soup))[0].replace('\\\\n','\\n').lower()\n",
    "            print(description)\n",
    "            row = {\"Description\":description}\n",
    "            musicdataDF = musicdataDF.append(row,ignore_index=True)\n",
    "    except Exception:\n",
    "        pass"
   ]
  },
  {
   "cell_type": "code",
   "execution_count": null,
   "metadata": {},
   "outputs": [],
   "source": [
    "display(musicdataDF)"
   ]
  },
  {
   "cell_type": "code",
   "execution_count": null,
   "metadata": {},
   "outputs": [],
   "source": [
    "            #Get Score of the video\n",
    "            score = re.search(\"[^201]\\n\\d{0,2}\\/10\", description).group().strip(\"\\n\").split(\"/\")[0] #Prevents word classification to not be included (Classic, meh, Not Good)\n",
    "\n",
    "            #Get the Genre\n",
    "            genre = GENRE_PATTERN.search(description).group()\n",
    "\n",
    "            #Get the year the album dropped\n",
    "            album_date = GENRE_PATTERN.search(description).group().split(\"/\")[0].strip()\n",
    "\n",
    "            #Date of when the video was published\n",
    "            video_date = soup.find(\"meta\", itemprop=\"datePublished\")['content']"
   ]
  },
  {
   "cell_type": "code",
   "execution_count": null,
   "metadata": {},
   "outputs": [],
   "source": [
    "#Save the music data to csv\n",
    "music_data.to_csv(\"..\\NeedleDrop\\music_data.csv\")"
   ]
  },
  {
   "cell_type": "markdown",
   "metadata": {
    "collapsed": false,
    "pycharm": {
     "name": "#%% md\n"
    }
   },
   "source": [
    "# Data Cleaning"
   ]
  },
  {
   "cell_type": "code",
   "execution_count": null,
   "metadata": {
    "collapsed": false,
    "pycharm": {
     "name": "#%%\n"
    }
   },
   "outputs": [],
   "source": [
    "#Fixed the data frame\n",
    "music_data = pd.read_csv(\".\\music_data.csv\", index_col=0,encoding='latin-1')"
   ]
  },
  {
   "cell_type": "code",
   "execution_count": null,
   "metadata": {
    "collapsed": false,
    "pycharm": {
     "name": "#%%\n"
    }
   },
   "outputs": [],
   "source": [
    "\n",
    "#Fix Score Counts and convert to numerics\n",
    "music_data[\"Score\"] = music_data[\"Score\"].str.replace(\".\\\\n\",\"\")\n",
    "music_data[\"Score\"] = pd.to_numeric(music_data[\"Score\"])"
   ]
  },
  {
   "cell_type": "code",
   "execution_count": null,
   "metadata": {
    "collapsed": false,
    "pycharm": {
     "name": "#%%\n"
    }
   },
   "outputs": [],
   "source": [
    "#Remove \"{Name} Review From Title\"\n",
    "pattern_album = re.compile(\"(ALBUM|EP|MIXTAPE) .*\", re.I)\n",
    "music_data[\"Title\"] = music_data[\"Title\"].str.replace(pattern_album,\"\")\n",
    "music_data[\"Title\"] = music_data[\"Title\"].str.replace(\"EP/\",\"\") #SZA- Z man"
   ]
  },
  {
   "cell_type": "code",
   "execution_count": null,
   "metadata": {
    "collapsed": false,
    "pycharm": {
     "name": "#%%\n"
    }
   },
   "outputs": [],
   "source": [
    "#Splitting title into artist and album\n",
    "music_data[[\"Artist\", \"Album\"]] = music_data[\"Title\"].str.split(pat = \"-\",expand=True, n = 1)\n",
    "del music_data[\"Title\"]\n",
    "music_data = music_data[[\"Artist\", \"Album\", \"Genre\", \"Album_Date\", \"Video_Date\", \"Score\"]]"
   ]
  },
  {
   "cell_type": "code",
   "execution_count": null,
   "metadata": {
    "collapsed": false,
    "pycharm": {
     "name": "#%%\n"
    }
   },
   "outputs": [],
   "source": [
    "#Filter the sub-genre to the parent-genre\n",
    "music_data[\"Genre\"].mask( music_data[\"Genre\"].str.contains(\"r&b|soul|funk\",case=False, na=False), \"R&B\", inplace=True )\n",
    "music_data[\"Genre\"].mask( music_data[\"Genre\"].str.contains(\"hip hop|rap|trap|drill\",case=False, na=False), \"Rap\", inplace=True )\n",
    "music_data[\"Genre\"].mask( music_data[\"Genre\"].str.contains(\"rock|punk|emo|screamo|grunge|metal|hardcore\",case=False, na=False), \"Rock\", inplace=True )\n",
    "music_data[\"Genre\"].mask( music_data[\"Genre\"].str.contains(\"jazz|bop\",case=False, na=False), \"Jazz\", inplace=True )\n",
    "music_data[\"Genre\"].mask( music_data[\"Genre\"].str.contains(\"electro|dub|synth|house|dance|disco|edm|glitch|idm\",case=False, na=False), \"Electronic\", inplace=True )\n",
    "music_data[\"Genre\"].mask( music_data[\"Genre\"].str.contains(\"ambient\",case=False, na=False), \"Ambient\", inplace=True )\n",
    "music_data[\"Genre\"].mask( music_data[\"Genre\"].str.contains(\"pop\",case=False, na=False), \"Pop\", inplace=True )\n",
    "music_data[\"Genre\"].mask( music_data[\"Genre\"].str.contains(\"folk\",case=False, na=False), \"Folk\", inplace=True )\n",
    "music_data[\"Genre\"].mask( music_data[\"Genre\"].str.contains(\"country\",case=False, na=False), \"Country\", inplace=True )"
   ]
  },
  {
   "cell_type": "code",
   "execution_count": null,
   "metadata": {
    "collapsed": false,
    "pycharm": {
     "name": "#%%\n"
    }
   },
   "outputs": [],
   "source": [
    "import dataframe_image as dfi\n",
    "artists = music_data[\"Artist\"].str.replace(\" \",\"\")\n",
    "artists.value_counts().head(n=5)"
   ]
  },
  {
   "cell_type": "code",
   "execution_count": null,
   "metadata": {
    "collapsed": false,
    "pycharm": {
     "name": "#%%\n"
    }
   },
   "outputs": [],
   "source": [
    "print(\"Mr.Fantano has reviewed about \" + str(music_data.shape[0]) + \" albums/ep/mixtape as of 5/22/2022 => 1/21/2011 \") #Not including classics, Not Good, and"
   ]
  },
  {
   "cell_type": "code",
   "execution_count": null,
   "metadata": {
    "collapsed": false,
    "pycharm": {
     "name": "#%%\n"
    }
   },
   "outputs": [],
   "source": [
    "music_data[\"Video_Date\"] = pd.to_datetime(music_data[\"Video_Date\"])\n",
    "music_data[\"Video_Date\"].dt.year.value_counts().sort_index().plot(kind=\"bar\",xlabel=\"Years of Upload\", ylabel=\"Counts\",title=\"Reviews Throughout Years\", figsize=(10,5))\n",
    "print( \"Mr.Fantano has been uploading reviews since 2011 and on average releases \" +\n",
    "       str( math.ceil( music_data[\"Video_Date\"].dt.year.value_counts().mean() ) ) +\" reviews per year\")"
   ]
  },
  {
   "cell_type": "markdown",
   "metadata": {
    "collapsed": false,
    "pycharm": {
     "name": "#%% md\n"
    }
   },
   "source": [
    "## Bar Chart w/ all scores"
   ]
  },
  {
   "cell_type": "code",
   "execution_count": null,
   "metadata": {
    "collapsed": false,
    "pycharm": {
     "name": "#%%\n"
    }
   },
   "outputs": [],
   "source": [
    "music_data[\"Score\"].value_counts().sort_index().plot(kind=\"bar\",xlabel=\"Scores\", ylabel=\"Counts\",title=\"All Scores\", figsize=(10,5))\n",
    "music_data[\"Score\"].describe()"
   ]
  },
  {
   "cell_type": "markdown",
   "metadata": {
    "collapsed": false,
    "pycharm": {
     "name": "#%% md\n"
    }
   },
   "source": [
    "# What is the average per genre? (Size > 30)"
   ]
  },
  {
   "cell_type": "code",
   "execution_count": null,
   "metadata": {
    "collapsed": false,
    "pycharm": {
     "name": "#%%\n"
    }
   },
   "outputs": [],
   "source": [
    "music_data[\"Genre\"].value_counts().head(n=6)"
   ]
  },
  {
   "cell_type": "code",
   "execution_count": null,
   "metadata": {
    "collapsed": false,
    "pycharm": {
     "name": "#%%\n"
    }
   },
   "outputs": [],
   "source": [
    "#Rap\n",
    "rap = music_data [music_data[\"Genre\"] == \"Rap\"]\n",
    "rap.reset_index(drop=True)\n",
    "rap[\"Score\"].value_counts().sort_index().plot(kind=\"bar\",xlabel=\"Scores\", ylabel=\"Counts\",title=\"Rap Scores\", figsize=(10,5))\n",
    "print(\"Rap Scores:\\n\")\n",
    "rap[\"Score\"].describe()"
   ]
  },
  {
   "cell_type": "code",
   "execution_count": null,
   "metadata": {
    "collapsed": false,
    "pycharm": {
     "name": "#%%\n"
    }
   },
   "outputs": [],
   "source": [
    "#Rock\n",
    "rock = music_data [music_data[\"Genre\"] == \"Rock\"]\n",
    "rock.reset_index(drop=True)\n",
    "rock[\"Score\"].value_counts().sort_index().plot(kind=\"bar\",xlabel=\"Scores\", ylabel=\"Counts\",title=\"Rock Scores\", figsize=(10,5))\n",
    "print(\"Rock Scores:\\n\")\n",
    "rock[\"Score\"].describe()"
   ]
  },
  {
   "cell_type": "code",
   "execution_count": null,
   "metadata": {
    "collapsed": false,
    "pycharm": {
     "name": "#%%\n"
    }
   },
   "outputs": [],
   "source": [
    "#Pop\n",
    "pop = music_data [music_data[\"Genre\"] == \"Pop\"]\n",
    "pop.reset_index(drop=True)\n",
    "pop[\"Score\"].value_counts().sort_index().plot(kind=\"bar\",xlabel=\"Scores\", ylabel=\"Counts\",title=\"Pop Scores\", figsize=(10,5))\n",
    "print(\"Pop Scores:\\n\")\n",
    "pop[\"Score\"].describe()"
   ]
  },
  {
   "cell_type": "code",
   "execution_count": null,
   "metadata": {
    "collapsed": false,
    "pycharm": {
     "name": "#%%\n"
    }
   },
   "outputs": [],
   "source": [
    "#R&B\n",
    "RB = music_data [music_data[\"Genre\"] == \"R&B\"]\n",
    "RB.reset_index(drop=True)\n",
    "RB[\"Score\"].value_counts().sort_index().plot(kind=\"bar\",xlabel=\"Scores\", ylabel=\"Counts\",title=\"R&B Scores\", figsize=(10,5))\n",
    "print(\"R&B Scores:\\n\")\n",
    "RB[\"Score\"].describe()"
   ]
  },
  {
   "cell_type": "code",
   "execution_count": null,
   "metadata": {
    "collapsed": false,
    "pycharm": {
     "name": "#%%\n"
    }
   },
   "outputs": [],
   "source": [
    "electronic = music_data [music_data[\"Genre\"] == \"Electronic\"]\n",
    "electronic.reset_index(drop=True)\n",
    "electronic[\"Score\"].value_counts().sort_index().plot(kind=\"bar\",xlabel=\"Scores\", ylabel=\"Counts\",title=\"Electronic Scores\", figsize=(10,5))\n",
    "print(\"Electronic Scores:\\n\")\n",
    "electronic[\"Score\"].describe()"
   ]
  },
  {
   "cell_type": "code",
   "execution_count": null,
   "metadata": {
    "collapsed": false,
    "pycharm": {
     "name": "#%%\n"
    }
   },
   "outputs": [],
   "source": [
    "folk = music_data [music_data[\"Genre\"] == \"Folk\"]\n",
    "folk.reset_index(drop=True)\n",
    "folk[\"Score\"].value_counts().sort_index().plot(kind=\"bar\",xlabel=\"Scores\", ylabel=\"Counts\",title=\"Folk Scores\", figsize=(10,5))\n",
    "print(\"Electronic Scores:\\n\")\n",
    "folk[\"Score\"].describe()"
   ]
  },
  {
   "cell_type": "markdown",
   "metadata": {
    "collapsed": false,
    "pycharm": {
     "name": "#%% md\n"
    }
   },
   "source": [
    "# Is there a bias within Mr.Fantano's review?\n",
    "> There has been a large discussion online that Mr.Fantano doesn't like rap and is a big metal/rock fan"
   ]
  },
  {
   "cell_type": "code",
   "execution_count": null,
   "metadata": {
    "collapsed": false,
    "pycharm": {
     "name": "#%%\n"
    }
   },
   "outputs": [],
   "source": [
    "import scipy.stats as stats\n",
    "from statsmodels.stats.multicomp import pairwise_tukeyhsd\n",
    "f_stats, p_value = stats.f_oneway(rap[\"Score\"],rock[\"Score\"],pop[\"Score\"],RB[\"Score\"], electronic[\"Score\"],folk[\"Score\"])\n",
    "if p_value < 0.05:\n",
    "    print(\"Means are not equal \" + str( format(p_value, '.10f')) + \" Meaning that some bias is going on!\\n\")\n",
    "\n",
    "combined = pd.concat([rap,rock,pop,RB,electronic,folk], axis = 0, ignore_index=True)"
   ]
  },
  {
   "cell_type": "code",
   "execution_count": null,
   "metadata": {
    "collapsed": false,
    "pycharm": {
     "name": "#%%\n"
    }
   },
   "outputs": [],
   "source": [
    "poc_hoc = pairwise_tukeyhsd(endog = combined[\"Score\"], groups = combined[\"Genre\"] ,alpha=.05)\n",
    "print(poc_hoc)"
   ]
  },
  {
   "cell_type": "markdown",
   "metadata": {
    "pycharm": {
     "name": "#%% md\n"
    }
   },
   "source": []
  }
 ],
 "metadata": {
  "kernelspec": {
   "display_name": "Python 3.10.8 ('ML')",
   "language": "python",
   "name": "python3"
  },
  "language_info": {
   "codemirror_mode": {
    "name": "ipython",
    "version": 3
   },
   "file_extension": ".py",
   "mimetype": "text/x-python",
   "name": "python",
   "nbconvert_exporter": "python",
   "pygments_lexer": "ipython3",
   "version": "3.10.8"
  },
  "vscode": {
   "interpreter": {
    "hash": "24655098450cfdfc86a5c9aa42e2375245240419abafb835314a302369f7ffb4"
   }
  }
 },
 "nbformat": 4,
 "nbformat_minor": 2
}
