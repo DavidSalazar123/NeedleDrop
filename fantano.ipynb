{
 "cells": [
  {
   "cell_type": "code",
   "execution_count": 1,
   "metadata": {
    "pycharm": {
     "name": "#%%\n"
    }
   },
   "outputs": [],
   "source": [
    "import matplotlib.pyplot as plt\n",
    "from bs4 import BeautifulSoup\n",
    "import requests\n",
    "import pandas as pd\n",
    "import time\n",
    "import math\n",
    "from selenium import webdriver\n",
    "from selenium.webdriver.common.by import By\n",
    "from selenium.webdriver.support.wait import WebDriverWait\n",
    "from selenium.webdriver.support import expected_conditions as EC\n",
    "from selenium.webdriver.chrome.service import Service\n",
    "import re\n",
    "HOME = \"https://www.youtube.com/user/theneedledrop/videos\""
   ]
  },
  {
   "cell_type": "code",
   "execution_count": 2,
   "metadata": {},
   "outputs": [],
   "source": [
    "def scroll():\n",
    "    SCROLL_PAUSE_TIME = 1\n",
    "    last_height = driver.execute_script(\"return document.documentElement.scrollHeight\")\n",
    "\n",
    "    while True:\n",
    "        driver.execute_script(\"window.scrollTo(0,document.documentElement.scrollHeight);\")\n",
    "        time.sleep(SCROLL_PAUSE_TIME)\n",
    "        new_height = driver.execute_script(\"return document.documentElement.scrollHeight\")\n",
    "        if new_height == last_height:\n",
    "            time.sleep(3)\n",
    "            break\n",
    "        last_height = new_height"
   ]
  },
  {
   "cell_type": "markdown",
   "metadata": {},
   "source": [
    "# Webdriver to scrape youtube video"
   ]
  },
  {
   "cell_type": "code",
   "execution_count": 5,
   "metadata": {},
   "outputs": [],
   "source": [
    "data = []\n",
    "\n",
    "# Options\n",
    "options = webdriver.ChromeOptions()\n",
    "options.add_argument(\"--disable-extensions\")\n",
    "options.add_argument(\"--disable-notifications\")\n",
    "options.add_argument(\"--disable-Advertisement\")\n",
    "options.add_argument(\"--disable-popup-blocking\")\n",
    "options.add_argument(\"start-maximized\")\n",
    "s=Service(\"C:\\webdriver\\chromedriver.exe\")\n",
    "driver= webdriver.Chrome(service=s,options=options)\n",
    "driver.get(HOME)\n",
    "\n",
    "time.sleep(3)\n",
    "scroll()\n",
    "\n",
    "try:\n",
    "    for e in WebDriverWait(driver, 20).until(EC.presence_of_all_elements_located((By.CSS_SELECTOR, 'div#details'))):\n",
    "        vurl = e.find_element(By.CSS_SELECTOR,'a#video-title-link').get_attribute('href')\n",
    "        data.append({\n",
    "            'video_url':vurl,\n",
    "            })\n",
    "except:\n",
    "    pass"
   ]
  },
  {
   "cell_type": "code",
   "execution_count": 10,
   "metadata": {
    "pycharm": {
     "name": "#%%\n"
    }
   },
   "outputs": [],
   "source": [
    "df = pd.DataFrame(data).drop_duplicates()\n",
    "df.to_csv('./webdriver.csv')"
   ]
  },
  {
   "cell_type": "markdown",
   "metadata": {},
   "source": [
    "Look into Pytube for library"
   ]
  },
  {
   "cell_type": "code",
   "execution_count": null,
   "metadata": {
    "pycharm": {
     "name": "#%%\n"
    }
   },
   "outputs": [],
   "source": [
    "#Creation of the data\n",
    "GENRE_PATTERN = re.compile(\"[^\\/](19|20)\\d{2}\\s\\/.*\")\n",
    "PATTERN = re.compile('(?<=shortDescription\":\").*(?=\",\"isCrawlable)')\n",
    "musicdataDF = pd.DataFrame(columns=[\"Description\"])\n",
    "\n",
    "for element in element_titles:\n",
    "    title = element.text\n",
    "    #Not Good and Classics are included within this data\n",
    "    try:\n",
    "        if \"review\" in title.lower() and \"track review\" not in title.lower() and \"yunoreview\" not in title.lower() and \"weekly track\" not in title.lower():\n",
    "            #Get Description of video\n",
    "            soup = BeautifulSoup(requests.get(element.get_attribute(\"href\")).content)\n",
    "            description = PATTERN.findall(str(soup))[0].replace('\\\\n','\\n').lower()\n",
    "            print(description)\n",
    "            row = {\"Description\":description}\n",
    "            musicdataDF = musicdataDF.append(row,ignore_index=True)\n",
    "    except Exception:\n",
    "        pass"
   ]
  },
  {
   "cell_type": "code",
   "execution_count": null,
   "metadata": {},
   "outputs": [],
   "source": [
    "title = element.text\n",
    "    print(title)\n",
    "    print( element.get_attribute(\"href\"))\n",
    "    print( requests.get(element.get_attribute(\"href\")))\n",
    "#Not Good and Classics are included within this data\n",
    "    try:\n",
    "        if \"review\" in title.lower() and \"track review\" not in title.lower() and \"yunoreview\" not in title.lower() and \"weekly track\" not in title.lower():\n",
    "            #Get Description of video\n",
    "            soup = BeautifulSoup(requests.get(element.get_attribute(\"href\")).content)\n",
    "            description = PATTERN.findall(str(soup))[0].replace('\\\\n','\\n').lower()\n",
    "            print(description)\n",
    "            row = {\"Description\":description}\n",
    "            musicdataDF = musicdataDF.append(row,ignore_index=True)\n",
    "    except Exception:\n",
    "        pass"
   ]
  },
  {
   "cell_type": "code",
   "execution_count": null,
   "metadata": {},
   "outputs": [],
   "source": [
    "display(musicdataDF)"
   ]
  },
  {
   "cell_type": "code",
   "execution_count": null,
   "metadata": {},
   "outputs": [],
   "source": [
    "            #Get Score of the video\n",
    "            score = re.search(\"[^201]\\n\\d{0,2}\\/10\", description).group().strip(\"\\n\").split(\"/\")[0] #Prevents word classification to not be included (Classic, meh, Not Good)\n",
    "\n",
    "            #Get the Genre\n",
    "            genre = GENRE_PATTERN.search(description).group()\n",
    "\n",
    "            #Get the year the album dropped\n",
    "            album_date = GENRE_PATTERN.search(description).group().split(\"/\")[0].strip()\n",
    "\n",
    "            #Date of when the video was published\n",
    "            video_date = soup.find(\"meta\", itemprop=\"datePublished\")['content']"
   ]
  },
  {
   "cell_type": "code",
   "execution_count": null,
   "metadata": {},
   "outputs": [],
   "source": [
    "#Save the music data to csv\n",
    "music_data.to_csv(\"..\\NeedleDrop\\music_data.csv\")"
   ]
  },
  {
   "cell_type": "markdown",
   "metadata": {
    "collapsed": false,
    "pycharm": {
     "name": "#%% md\n"
    }
   },
   "source": [
    "# Data Cleaning"
   ]
  },
  {
   "cell_type": "code",
   "execution_count": null,
   "metadata": {
    "collapsed": false,
    "pycharm": {
     "name": "#%%\n"
    }
   },
   "outputs": [],
   "source": [
    "#Fixed the data frame\n",
    "music_data = pd.read_csv(\".\\music_data.csv\", index_col=0,encoding='latin-1')"
   ]
  },
  {
   "cell_type": "code",
   "execution_count": null,
   "metadata": {
    "collapsed": false,
    "pycharm": {
     "name": "#%%\n"
    }
   },
   "outputs": [],
   "source": [
    "\n",
    "#Fix Score Counts and convert to numerics\n",
    "music_data[\"Score\"] = music_data[\"Score\"].str.replace(\".\\\\n\",\"\")\n",
    "music_data[\"Score\"] = pd.to_numeric(music_data[\"Score\"])"
   ]
  },
  {
   "cell_type": "code",
   "execution_count": null,
   "metadata": {
    "collapsed": false,
    "pycharm": {
     "name": "#%%\n"
    }
   },
   "outputs": [],
   "source": [
    "#Remove \"{Name} Review From Title\"\n",
    "pattern_album = re.compile(\"(ALBUM|EP|MIXTAPE) .*\", re.I)\n",
    "music_data[\"Title\"] = music_data[\"Title\"].str.replace(pattern_album,\"\")\n",
    "music_data[\"Title\"] = music_data[\"Title\"].str.replace(\"EP/\",\"\") #SZA- Z man"
   ]
  },
  {
   "cell_type": "code",
   "execution_count": null,
   "metadata": {
    "collapsed": false,
    "pycharm": {
     "name": "#%%\n"
    }
   },
   "outputs": [],
   "source": [
    "#Splitting title into artist and album\n",
    "music_data[[\"Artist\", \"Album\"]] = music_data[\"Title\"].str.split(pat = \"-\",expand=True, n = 1)\n",
    "del music_data[\"Title\"]\n",
    "music_data = music_data[[\"Artist\", \"Album\", \"Genre\", \"Album_Date\", \"Video_Date\", \"Score\"]]"
   ]
  },
  {
   "cell_type": "code",
   "execution_count": null,
   "metadata": {
    "collapsed": false,
    "pycharm": {
     "name": "#%%\n"
    }
   },
   "outputs": [],
   "source": [
    "#Filter the sub-genre to the parent-genre\n",
    "music_data[\"Genre\"].mask( music_data[\"Genre\"].str.contains(\"r&b|soul|funk\",case=False, na=False), \"R&B\", inplace=True )\n",
    "music_data[\"Genre\"].mask( music_data[\"Genre\"].str.contains(\"hip hop|rap|trap|drill\",case=False, na=False), \"Rap\", inplace=True )\n",
    "music_data[\"Genre\"].mask( music_data[\"Genre\"].str.contains(\"rock|punk|emo|screamo|grunge|metal|hardcore\",case=False, na=False), \"Rock\", inplace=True )\n",
    "music_data[\"Genre\"].mask( music_data[\"Genre\"].str.contains(\"jazz|bop\",case=False, na=False), \"Jazz\", inplace=True )\n",
    "music_data[\"Genre\"].mask( music_data[\"Genre\"].str.contains(\"electro|dub|synth|house|dance|disco|edm|glitch|idm\",case=False, na=False), \"Electronic\", inplace=True )\n",
    "music_data[\"Genre\"].mask( music_data[\"Genre\"].str.contains(\"ambient\",case=False, na=False), \"Ambient\", inplace=True )\n",
    "music_data[\"Genre\"].mask( music_data[\"Genre\"].str.contains(\"pop\",case=False, na=False), \"Pop\", inplace=True )\n",
    "music_data[\"Genre\"].mask( music_data[\"Genre\"].str.contains(\"folk\",case=False, na=False), \"Folk\", inplace=True )\n",
    "music_data[\"Genre\"].mask( music_data[\"Genre\"].str.contains(\"country\",case=False, na=False), \"Country\", inplace=True )"
   ]
  },
  {
   "cell_type": "code",
   "execution_count": null,
   "metadata": {
    "collapsed": false,
    "pycharm": {
     "name": "#%%\n"
    }
   },
   "outputs": [],
   "source": [
    "import dataframe_image as dfi\n",
    "artists = music_data[\"Artist\"].str.replace(\" \",\"\")\n",
    "artists.value_counts().head(n=5)"
   ]
  },
  {
   "cell_type": "code",
   "execution_count": null,
   "metadata": {
    "collapsed": false,
    "pycharm": {
     "name": "#%%\n"
    }
   },
   "outputs": [],
   "source": [
    "print(\"Mr.Fantano has reviewed about \" + str(music_data.shape[0]) + \" albums/ep/mixtape as of 5/22/2022 => 1/21/2011 \") #Not including classics, Not Good, and"
   ]
  },
  {
   "cell_type": "code",
   "execution_count": null,
   "metadata": {
    "collapsed": false,
    "pycharm": {
     "name": "#%%\n"
    }
   },
   "outputs": [],
   "source": [
    "music_data[\"Video_Date\"] = pd.to_datetime(music_data[\"Video_Date\"])\n",
    "music_data[\"Video_Date\"].dt.year.value_counts().sort_index().plot(kind=\"bar\",xlabel=\"Years of Upload\", ylabel=\"Counts\",title=\"Reviews Throughout Years\", figsize=(10,5))\n",
    "print( \"Mr.Fantano has been uploading reviews since 2011 and on average releases \" +\n",
    "       str( math.ceil( music_data[\"Video_Date\"].dt.year.value_counts().mean() ) ) +\" reviews per year\")"
   ]
  },
  {
   "cell_type": "markdown",
   "metadata": {
    "collapsed": false,
    "pycharm": {
     "name": "#%% md\n"
    }
   },
   "source": [
    "## Bar Chart w/ all scores"
   ]
  },
  {
   "cell_type": "code",
   "execution_count": null,
   "metadata": {
    "collapsed": false,
    "pycharm": {
     "name": "#%%\n"
    }
   },
   "outputs": [],
   "source": [
    "music_data[\"Score\"].value_counts().sort_index().plot(kind=\"bar\",xlabel=\"Scores\", ylabel=\"Counts\",title=\"All Scores\", figsize=(10,5))\n",
    "music_data[\"Score\"].describe()"
   ]
  },
  {
   "cell_type": "markdown",
   "metadata": {
    "collapsed": false,
    "pycharm": {
     "name": "#%% md\n"
    }
   },
   "source": [
    "# What is the average per genre? (Size > 30)"
   ]
  },
  {
   "cell_type": "code",
   "execution_count": null,
   "metadata": {
    "collapsed": false,
    "pycharm": {
     "name": "#%%\n"
    }
   },
   "outputs": [],
   "source": [
    "music_data[\"Genre\"].value_counts().head(n=6)"
   ]
  },
  {
   "cell_type": "code",
   "execution_count": null,
   "metadata": {
    "collapsed": false,
    "pycharm": {
     "name": "#%%\n"
    }
   },
   "outputs": [],
   "source": [
    "#Rap\n",
    "rap = music_data [music_data[\"Genre\"] == \"Rap\"]\n",
    "rap.reset_index(drop=True)\n",
    "rap[\"Score\"].value_counts().sort_index().plot(kind=\"bar\",xlabel=\"Scores\", ylabel=\"Counts\",title=\"Rap Scores\", figsize=(10,5))\n",
    "print(\"Rap Scores:\\n\")\n",
    "rap[\"Score\"].describe()"
   ]
  },
  {
   "cell_type": "code",
   "execution_count": null,
   "metadata": {
    "collapsed": false,
    "pycharm": {
     "name": "#%%\n"
    }
   },
   "outputs": [],
   "source": [
    "#Rock\n",
    "rock = music_data [music_data[\"Genre\"] == \"Rock\"]\n",
    "rock.reset_index(drop=True)\n",
    "rock[\"Score\"].value_counts().sort_index().plot(kind=\"bar\",xlabel=\"Scores\", ylabel=\"Counts\",title=\"Rock Scores\", figsize=(10,5))\n",
    "print(\"Rock Scores:\\n\")\n",
    "rock[\"Score\"].describe()"
   ]
  },
  {
   "cell_type": "code",
   "execution_count": null,
   "metadata": {
    "collapsed": false,
    "pycharm": {
     "name": "#%%\n"
    }
   },
   "outputs": [],
   "source": [
    "#Pop\n",
    "pop = music_data [music_data[\"Genre\"] == \"Pop\"]\n",
    "pop.reset_index(drop=True)\n",
    "pop[\"Score\"].value_counts().sort_index().plot(kind=\"bar\",xlabel=\"Scores\", ylabel=\"Counts\",title=\"Pop Scores\", figsize=(10,5))\n",
    "print(\"Pop Scores:\\n\")\n",
    "pop[\"Score\"].describe()"
   ]
  },
  {
   "cell_type": "code",
   "execution_count": null,
   "metadata": {
    "collapsed": false,
    "pycharm": {
     "name": "#%%\n"
    }
   },
   "outputs": [],
   "source": [
    "#R&B\n",
    "RB = music_data [music_data[\"Genre\"] == \"R&B\"]\n",
    "RB.reset_index(drop=True)\n",
    "RB[\"Score\"].value_counts().sort_index().plot(kind=\"bar\",xlabel=\"Scores\", ylabel=\"Counts\",title=\"R&B Scores\", figsize=(10,5))\n",
    "print(\"R&B Scores:\\n\")\n",
    "RB[\"Score\"].describe()"
   ]
  },
  {
   "cell_type": "code",
   "execution_count": null,
   "metadata": {
    "collapsed": false,
    "pycharm": {
     "name": "#%%\n"
    }
   },
   "outputs": [],
   "source": [
    "electronic = music_data [music_data[\"Genre\"] == \"Electronic\"]\n",
    "electronic.reset_index(drop=True)\n",
    "electronic[\"Score\"].value_counts().sort_index().plot(kind=\"bar\",xlabel=\"Scores\", ylabel=\"Counts\",title=\"Electronic Scores\", figsize=(10,5))\n",
    "print(\"Electronic Scores:\\n\")\n",
    "electronic[\"Score\"].describe()"
   ]
  },
  {
   "cell_type": "code",
   "execution_count": null,
   "metadata": {
    "collapsed": false,
    "pycharm": {
     "name": "#%%\n"
    }
   },
   "outputs": [],
   "source": [
    "folk = music_data [music_data[\"Genre\"] == \"Folk\"]\n",
    "folk.reset_index(drop=True)\n",
    "folk[\"Score\"].value_counts().sort_index().plot(kind=\"bar\",xlabel=\"Scores\", ylabel=\"Counts\",title=\"Folk Scores\", figsize=(10,5))\n",
    "print(\"Electronic Scores:\\n\")\n",
    "folk[\"Score\"].describe()"
   ]
  },
  {
   "cell_type": "markdown",
   "metadata": {
    "collapsed": false,
    "pycharm": {
     "name": "#%% md\n"
    }
   },
   "source": [
    "# Is there a bias within Mr.Fantano's review?\n",
    "> There has been a large discussion online that Mr.Fantano doesn't like rap and is a big metal/rock fan"
   ]
  },
  {
   "cell_type": "code",
   "execution_count": null,
   "metadata": {
    "collapsed": false,
    "pycharm": {
     "name": "#%%\n"
    }
   },
   "outputs": [],
   "source": [
    "import scipy.stats as stats\n",
    "from statsmodels.stats.multicomp import pairwise_tukeyhsd\n",
    "f_stats, p_value = stats.f_oneway(rap[\"Score\"],rock[\"Score\"],pop[\"Score\"],RB[\"Score\"], electronic[\"Score\"],folk[\"Score\"])\n",
    "if p_value < 0.05:\n",
    "    print(\"Means are not equal \" + str( format(p_value, '.10f')) + \" Meaning that some bias is going on!\\n\")\n",
    "\n",
    "combined = pd.concat([rap,rock,pop,RB,electronic,folk], axis = 0, ignore_index=True)"
   ]
  },
  {
   "cell_type": "code",
   "execution_count": null,
   "metadata": {
    "collapsed": false,
    "pycharm": {
     "name": "#%%\n"
    }
   },
   "outputs": [],
   "source": [
    "poc_hoc = pairwise_tukeyhsd(endog = combined[\"Score\"], groups = combined[\"Genre\"] ,alpha=.05)\n",
    "print(poc_hoc)"
   ]
  },
  {
   "cell_type": "markdown",
   "metadata": {
    "pycharm": {
     "name": "#%% md\n"
    }
   },
   "source": []
  }
 ],
 "metadata": {
  "kernelspec": {
   "display_name": "Python 3.10.8 ('ML')",
   "language": "python",
   "name": "python3"
  },
  "language_info": {
   "codemirror_mode": {
    "name": "ipython",
    "version": 3
   },
   "file_extension": ".py",
   "mimetype": "text/x-python",
   "name": "python",
   "nbconvert_exporter": "python",
   "pygments_lexer": "ipython3",
   "version": "3.10.8"
  },
  "vscode": {
   "interpreter": {
    "hash": "24655098450cfdfc86a5c9aa42e2375245240419abafb835314a302369f7ffb4"
   }
  }
 },
 "nbformat": 4,
 "nbformat_minor": 2
}
