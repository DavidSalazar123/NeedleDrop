{
 "cells": [
  {
   "cell_type": "code",
   "execution_count": null,
   "metadata": {},
   "outputs": [],
   "source": [
    "import lyricsgenius as lg\n",
    "import pandas as pd\n",
    "import numpy as np\n",
    "import re\n",
    "import json\n",
    "import time\n",
    "import warnings\n",
    "import requests\n",
    "warnings.simplefilter(action='ignore', category=FutureWarning)\n",
    "GENIUS_TOKEN = \"Y80WiHQGGXOuJZ1CHjuO1U5IUGnW6I1ftwCxCFBTB88VZHYL8XxBewoBibWrh05O\"\n",
    "genius = lg.Genius(GENIUS_TOKEN)\n",
    "lyricsDF = pd.DataFrame(columns=[\"Album\", \"Artist\",\"Song #\",\"Song Name\", \"Lyrics\"])\n",
    "reviewsDF = pd.read_csv('./fantano_reviews.csv', index_col=0)\n",
    "reviewsDF.sort_values(by=['Artist', 'Album'], inplace=True)"
   ]
  },
  {
   "cell_type": "code",
   "execution_count": null,
   "metadata": {},
   "outputs": [],
   "source": [
    "# Get lyrics for each song in each album\n",
    "for index,value in reviewsDF[\"Album\"].items():\n",
    "    album = str(value).strip()\n",
    "    artist = reviewsDF[\"Artist\"][index].strip()\n",
    "    song_count = 0\n",
    "    try:\n",
    "        time.sleep(6)\n",
    "        songs = genius.search_album(album,artist)\n",
    "        for track in songs.tracks:\n",
    "            song_count += 1\n",
    "            count = str(song_count) + \"/\" + str(len(songs.tracks))\n",
    "            song_name = track.song.title\n",
    "            lyrics = re.sub(r\"\\[.+\\]\\n\", ' ', track.to_text()) # Remove [Verse 1], [Chorus], etc.\n",
    "            if lyrics.endswith(\"You might also like\"): # Remove \"You might also like\" at the end\n",
    "                lyrics = lyrics[:-19]\n",
    "            lyrics = lyrics.strip().replace(\"\\n\",\" \")\n",
    "            row = {\"Album\": album, \"Artist\": artist, \"Song #\": count, \"Song Name\": song_name, \"Lyrics\": lyrics}\n",
    "            lyricsDF = lyricsDF.append(row, ignore_index=True)\n",
    "    except Exception as e:\n",
    "        print(e)\n",
    "        pass"
   ]
  },
  {
   "cell_type": "code",
   "execution_count": null,
   "metadata": {},
   "outputs": [],
   "source": [
    "# Add back into reviewsDF after it has been saved\n",
    "lyrics = re.sub(r\"\\[[^\\]]*\\]\", ' ', lyrics)\n",
    "lyrics = re.sub(r\"\\\\\", '', lyrics) #Remove \\\n",
    "lyrics = re.sub(r\"[0-9][0-9]Embed\",\"\",lyrics) # Remove embed cods\n",
    "lyrics = re.sub(r\"Translations.*Lyrics\",\"\",lyrics) # Remove translations"
   ]
  },
  {
   "cell_type": "code",
   "execution_count": null,
   "metadata": {},
   "outputs": [],
   "source": [
    "lyricsDF.to_csv('./album_lyrics.csv')"
   ]
  },
  {
   "cell_type": "code",
   "execution_count": null,
   "metadata": {},
   "outputs": [],
   "source": [
    "def get_vocab(corpus):\n",
    "    \n",
    "    vectorizer = CountVectorizer()\n",
    "    X = vectorizer.fit_transform(corpus)\n",
    "    vocab = vectorizer.get_feature_names()\n",
    "    \n",
    "    # lets just get rid of any short words\n",
    "    return [word for word in vocab if len(word) > 2 and not word.isdigit()]\n",
    "    \n",
    "def get_rhymes(word):\n",
    "    \n",
    "    url = f\"https://api.datamuse.com/words?rel_rhy={word.lower()}\"\n",
    "    \n",
    "    response = requests.get(url)\n",
    "    \n",
    "    return response.json()"
   ]
  },
  {
   "cell_type": "code",
   "execution_count": null,
   "metadata": {},
   "outputs": [],
   "source": [
    "# Get the rhyming words for each song to add to lyricsDF\n",
    "songs_list = lyricsDF[\"Lyrics\"].tolist()\n",
    "for index,value in reviewsDF[\"Album\"].items():\n",
    "    rhyme = 0\n",
    "    lyrics = songs_list[index]\n",
    "    vocab = get_vocab([lyrics])\n",
    "\n",
    "    for word in vocab:\n",
    "        rhymes_response = get_rhymes(word)\n",
    "        if len(rhymes_response) > 0: # If there are rhymes for the word\n",
    "            rhyming_words = [rhyme['word'] for rhyme in rhymes_response] + [word]\n",
    "    "
   ]
  }
 ],
 "metadata": {
  "kernelspec": {
   "display_name": "pipML",
   "language": "python",
   "name": "python3"
  },
  "language_info": {
   "codemirror_mode": {
    "name": "ipython",
    "version": 3
   },
   "file_extension": ".py",
   "mimetype": "text/x-python",
   "name": "python",
   "nbconvert_exporter": "python",
   "pygments_lexer": "ipython3",
   "version": "3.11.0"
  },
  "orig_nbformat": 4,
  "vscode": {
   "interpreter": {
    "hash": "c006570e55885776c1e81de828bd0cdcd324c697fb7f915da8f976841181300c"
   }
  }
 },
 "nbformat": 4,
 "nbformat_minor": 2
}
